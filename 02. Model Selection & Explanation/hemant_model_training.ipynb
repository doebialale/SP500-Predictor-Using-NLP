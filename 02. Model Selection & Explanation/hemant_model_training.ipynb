{
 "cells": [
  {
   "cell_type": "markdown",
   "id": "d28c581c-0f77-4042-ae02-c44e29903097",
   "metadata": {},
   "source": [
    "### Install Libraries"
   ]
  },
  {
   "cell_type": "code",
   "execution_count": null,
   "id": "b1204270-5030-470b-9f63-9f36d7df11dc",
   "metadata": {
    "scrolled": true
   },
   "outputs": [],
   "source": [
    "#!pip install yfinance\n",
    "#!pip install transformers\n",
    "\n"
   ]
  },
  {
   "cell_type": "code",
   "execution_count": 1,
   "id": "be88c889-cf3c-4f37-9b42-52006bf97231",
   "metadata": {},
   "outputs": [
    {
     "name": "stdout",
     "output_type": "stream",
     "text": [
      "Found existing installation: keras 3.5.0\n",
      "Uninstalling keras-3.5.0:\n",
      "  Successfully uninstalled keras-3.5.0\n"
     ]
    }
   ],
   "source": [
    "!pip uninstall -y keras\n"
   ]
  },
  {
   "cell_type": "code",
   "execution_count": null,
   "id": "83759980-a603-4512-8809-c743497ca599",
   "metadata": {},
   "outputs": [],
   "source": [
    "!pip install tf-keras\n",
    "#!pip install xgboost"
   ]
  },
  {
   "cell_type": "markdown",
   "id": "1013b3ec-bd75-4d46-864d-df9035cc650e",
   "metadata": {},
   "source": [
    "### Import Libraries"
   ]
  },
  {
   "cell_type": "code",
   "execution_count": 3,
   "id": "a80318e9-bf66-45fe-880c-85e65fb68983",
   "metadata": {},
   "outputs": [
    {
     "name": "stdout",
     "output_type": "stream",
     "text": [
      "WARNING:tensorflow:From C:\\Users\\hem11\\anaconda3\\Lib\\site-packages\\tf_keras\\src\\losses.py:2976: The name tf.losses.sparse_softmax_cross_entropy is deprecated. Please use tf.compat.v1.losses.sparse_softmax_cross_entropy instead.\n",
      "\n"
     ]
    }
   ],
   "source": [
    "import pandas as pd\n",
    "import numpy as np\n",
    "import yfinance as yf\n",
    "import matplotlib.pyplot as plt\n",
    "import seaborn as sns\n",
    "from datetime import datetime, timedelta\n",
    "import os\n",
    "import tensorflow as tf\n",
    "\n",
    "from transformers import AutoTokenizer, TFAutoModelForSequenceClassification\n",
    "from transformers import DistilBertTokenizer, DistilBertForSequenceClassification, pipeline\n",
    "from transformers import TFDistilBertForSequenceClassification\n",
    "from sklearn.model_selection import train_test_split\n",
    "from sklearn.ensemble import RandomForestClassifier\n",
    "from sklearn.metrics import classification_report, accuracy_score\n",
    "\n"
   ]
  },
  {
   "cell_type": "markdown",
   "id": "7ad082f0-0da0-4ddf-bb17-250693f1f070",
   "metadata": {},
   "source": [
    "### Load Headlines data"
   ]
  },
  {
   "cell_type": "code",
   "execution_count": 4,
   "id": "73c09055-228a-4b45-82fd-3ab308e4e210",
   "metadata": {},
   "outputs": [
    {
     "name": "stdout",
     "output_type": "stream",
     "text": [
      "C:\\Users\\hem11\\OneDrive\\Desktop\\Goals and Aspirition\\SuperDatascience\\Live Project\\SP500-Predictor-Using-NLP\\01. Data Prep & EDA\n"
     ]
    }
   ],
   "source": [
    "current_directory = os.getcwd()\n",
    "print(current_directory)"
   ]
  },
  {
   "cell_type": "code",
   "execution_count": 5,
   "id": "65be61bd-27db-4157-811b-aa6cbc684594",
   "metadata": {},
   "outputs": [
    {
     "name": "stdout",
     "output_type": "stream",
     "text": [
      "         date                                          headlines\n",
      "0  2020-07-17  Jim Cramer : A better way to invest in the Cov...\n",
      "1  2020-07-17    Cramer's lightning round : I would own Teradyne\n",
      "2  2020-07-17  Cramer's week ahead : Big week for earnings , ...\n",
      "3  2020-07-17  IQ Capital CEO Keith Bliss says tech and healt...\n",
      "4  2020-07-16  Wall Street delivered the 'kind of pullback I'...\n",
      "Renamed dataset exported to: C:\\Users\\hem11\\OneDrive\\Desktop\\Goals and Aspirition\\SuperDatascience\\Live Project\\SP500-Predictor-Using-NLP\\data\\hemant_headlines_data.csv\n"
     ]
    }
   ],
   "source": [
    "\n",
    "# Define the relative path to the dataset\n",
    "relative_path = '../data/combined_headlines_new.csv'\n",
    "\n",
    "# Convert relative path to absolute path\n",
    "absolute_path = os.path.abspath(relative_path)\n",
    "\n",
    "# Load the dataset into a DataFrame\n",
    "df = pd.read_csv(absolute_path)\n",
    "\n",
    "# Print the DataFrame to confirm loading\n",
    "print(df.head())\n",
    "\n",
    "# Define new filename and create the new path\n",
    "hemant_headlines_data = 'hemant_headlines_data.csv'\n",
    "new_path = os.path.join(os.path.dirname(absolute_path), hemant_headlines_data)\n",
    "\n",
    "# Export the DataFrame to the new path\n",
    "df.to_csv(new_path, index=False)\n",
    "\n",
    "print(f\"Renamed dataset exported to: {new_path}\")\n",
    "\n"
   ]
  },
  {
   "cell_type": "code",
   "execution_count": 6,
   "id": "09f7f81e-50d9-45d8-a4e5-fb3e87e87680",
   "metadata": {},
   "outputs": [
    {
     "name": "stdout",
     "output_type": "stream",
     "text": [
      "date         0\n",
      "headlines    0\n",
      "dtype: int64\n"
     ]
    }
   ],
   "source": [
    "# Load the CSV file from the local folder\n",
    "headlines_df = pd.read_csv('../data/hemant_headlines_data.csv')\n",
    "\n",
    "# Check null values in dataset\n",
    "print(headlines_df.isnull().sum())\n",
    "\n",
    "# Rename column names to avoid issues in merging and filtering\n",
    "headlines_df.columns = ['Date', 'Headlines']\n",
    "\n",
    "# Convert 'Date' column to datetime type \n",
    "headlines_df['Date'] = pd.to_datetime(headlines_df['Date'],errors='coerce')"
   ]
  },
  {
   "cell_type": "code",
   "execution_count": 7,
   "id": "6a1be927-948a-4e25-8905-e8ba95d68996",
   "metadata": {},
   "outputs": [
    {
     "data": {
      "text/html": [
       "<div>\n",
       "<style scoped>\n",
       "    .dataframe tbody tr th:only-of-type {\n",
       "        vertical-align: middle;\n",
       "    }\n",
       "\n",
       "    .dataframe tbody tr th {\n",
       "        vertical-align: top;\n",
       "    }\n",
       "\n",
       "    .dataframe thead th {\n",
       "        text-align: right;\n",
       "    }\n",
       "</style>\n",
       "<table border=\"1\" class=\"dataframe\">\n",
       "  <thead>\n",
       "    <tr style=\"text-align: right;\">\n",
       "      <th></th>\n",
       "      <th>Date</th>\n",
       "      <th>Headlines</th>\n",
       "    </tr>\n",
       "  </thead>\n",
       "  <tbody>\n",
       "    <tr>\n",
       "      <th>0</th>\n",
       "      <td>2020-07-17</td>\n",
       "      <td>Jim Cramer : A better way to invest in the Cov...</td>\n",
       "    </tr>\n",
       "    <tr>\n",
       "      <th>1</th>\n",
       "      <td>2020-07-17</td>\n",
       "      <td>Cramer's lightning round : I would own Teradyne</td>\n",
       "    </tr>\n",
       "    <tr>\n",
       "      <th>2</th>\n",
       "      <td>2020-07-17</td>\n",
       "      <td>Cramer's week ahead : Big week for earnings , ...</td>\n",
       "    </tr>\n",
       "    <tr>\n",
       "      <th>3</th>\n",
       "      <td>2020-07-17</td>\n",
       "      <td>IQ Capital CEO Keith Bliss says tech and healt...</td>\n",
       "    </tr>\n",
       "    <tr>\n",
       "      <th>4</th>\n",
       "      <td>2020-07-16</td>\n",
       "      <td>Wall Street delivered the 'kind of pullback I'...</td>\n",
       "    </tr>\n",
       "  </tbody>\n",
       "</table>\n",
       "</div>"
      ],
      "text/plain": [
       "        Date                                          Headlines\n",
       "0 2020-07-17  Jim Cramer : A better way to invest in the Cov...\n",
       "1 2020-07-17    Cramer's lightning round : I would own Teradyne\n",
       "2 2020-07-17  Cramer's week ahead : Big week for earnings , ...\n",
       "3 2020-07-17  IQ Capital CEO Keith Bliss says tech and healt...\n",
       "4 2020-07-16  Wall Street delivered the 'kind of pullback I'..."
      ]
     },
     "execution_count": 7,
     "metadata": {},
     "output_type": "execute_result"
    }
   ],
   "source": [
    "headlines_df.head()"
   ]
  },
  {
   "cell_type": "code",
   "execution_count": 8,
   "id": "7efe842e-7a4b-4612-acdc-bff2b2084f58",
   "metadata": {},
   "outputs": [
    {
     "name": "stdout",
     "output_type": "stream",
     "text": [
      "2017-12-17 2020-07-25\n"
     ]
    }
   ],
   "source": [
    "# Sort the dataset on Date column and reset the index to avoid any new column\n",
    "headlines_df.sort_values(by='Date', inplace=True)\n",
    "headlines_df = headlines_df.reset_index(drop=True)\n",
    "\n",
    "# Calculate min and max date of Date column \n",
    "min_date = headlines_df['Date'].min().date()\n",
    "max_date = headlines_df['Date'].max().date() + pd.Timedelta(days=7)\n",
    "\n",
    "print(min_date, max_date)"
   ]
  },
  {
   "cell_type": "markdown",
   "id": "188a80f7-f2ef-4ec4-8cef-4083415aafb7",
   "metadata": {},
   "source": [
    "### Load SPY data"
   ]
  },
  {
   "cell_type": "code",
   "execution_count": 9,
   "id": "d664f674-08cf-4149-927a-0229c5d68b0e",
   "metadata": {},
   "outputs": [],
   "source": [
    "# Load SPY historical data from yfinace using date range of headlines dataset\n",
    "sp500_df = yf.Ticker(\"SPY\").history(start= min_date, end= max_date)\n",
    "sp500_df.reset_index(inplace=True)\n",
    "\n",
    "# Convert Date column  to datetime and normalize dates to remove time part\n",
    "sp500_df['Date'] = pd.to_datetime(sp500_df['Date'], errors='coerce')\n",
    "sp500_df['Date'] = sp500_df['Date'].dt.normalize()\n",
    "\n",
    "# Ensure there are no time zones\n",
    "sp500_df['Date'] = sp500_df['Date'].dt.tz_localize(None)\n",
    "\n"
   ]
  },
  {
   "cell_type": "code",
   "execution_count": 10,
   "id": "030316b3-e8de-46c2-902a-7d94bc3283de",
   "metadata": {},
   "outputs": [
    {
     "data": {
      "text/html": [
       "<div>\n",
       "<style scoped>\n",
       "    .dataframe tbody tr th:only-of-type {\n",
       "        vertical-align: middle;\n",
       "    }\n",
       "\n",
       "    .dataframe tbody tr th {\n",
       "        vertical-align: top;\n",
       "    }\n",
       "\n",
       "    .dataframe thead th {\n",
       "        text-align: right;\n",
       "    }\n",
       "</style>\n",
       "<table border=\"1\" class=\"dataframe\">\n",
       "  <thead>\n",
       "    <tr style=\"text-align: right;\">\n",
       "      <th></th>\n",
       "      <th>Date</th>\n",
       "      <th>Open</th>\n",
       "      <th>High</th>\n",
       "      <th>Low</th>\n",
       "      <th>Close</th>\n",
       "      <th>Volume</th>\n",
       "      <th>Dividends</th>\n",
       "      <th>Stock Splits</th>\n",
       "      <th>Capital Gains</th>\n",
       "    </tr>\n",
       "  </thead>\n",
       "  <tbody>\n",
       "    <tr>\n",
       "      <th>0</th>\n",
       "      <td>2017-12-18</td>\n",
       "      <td>240.937973</td>\n",
       "      <td>241.387317</td>\n",
       "      <td>240.830135</td>\n",
       "      <td>241.027847</td>\n",
       "      <td>83653600</td>\n",
       "      <td>0.0</td>\n",
       "      <td>0.0</td>\n",
       "      <td>0.0</td>\n",
       "    </tr>\n",
       "    <tr>\n",
       "      <th>1</th>\n",
       "      <td>2017-12-19</td>\n",
       "      <td>241.279527</td>\n",
       "      <td>241.324450</td>\n",
       "      <td>240.030339</td>\n",
       "      <td>240.102249</td>\n",
       "      <td>82382900</td>\n",
       "      <td>0.0</td>\n",
       "      <td>0.0</td>\n",
       "      <td>0.0</td>\n",
       "    </tr>\n",
       "    <tr>\n",
       "      <th>2</th>\n",
       "      <td>2017-12-20</td>\n",
       "      <td>241.090804</td>\n",
       "      <td>241.144723</td>\n",
       "      <td>239.670890</td>\n",
       "      <td>239.976440</td>\n",
       "      <td>76751500</td>\n",
       "      <td>0.0</td>\n",
       "      <td>0.0</td>\n",
       "      <td>0.0</td>\n",
       "    </tr>\n",
       "    <tr>\n",
       "      <th>3</th>\n",
       "      <td>2017-12-21</td>\n",
       "      <td>240.614451</td>\n",
       "      <td>241.198619</td>\n",
       "      <td>240.219026</td>\n",
       "      <td>240.470657</td>\n",
       "      <td>67032300</td>\n",
       "      <td>0.0</td>\n",
       "      <td>0.0</td>\n",
       "      <td>0.0</td>\n",
       "    </tr>\n",
       "    <tr>\n",
       "      <th>4</th>\n",
       "      <td>2017-12-22</td>\n",
       "      <td>240.488685</td>\n",
       "      <td>240.524640</td>\n",
       "      <td>239.859593</td>\n",
       "      <td>240.407806</td>\n",
       "      <td>78720900</td>\n",
       "      <td>0.0</td>\n",
       "      <td>0.0</td>\n",
       "      <td>0.0</td>\n",
       "    </tr>\n",
       "  </tbody>\n",
       "</table>\n",
       "</div>"
      ],
      "text/plain": [
       "        Date        Open        High         Low       Close    Volume  \\\n",
       "0 2017-12-18  240.937973  241.387317  240.830135  241.027847  83653600   \n",
       "1 2017-12-19  241.279527  241.324450  240.030339  240.102249  82382900   \n",
       "2 2017-12-20  241.090804  241.144723  239.670890  239.976440  76751500   \n",
       "3 2017-12-21  240.614451  241.198619  240.219026  240.470657  67032300   \n",
       "4 2017-12-22  240.488685  240.524640  239.859593  240.407806  78720900   \n",
       "\n",
       "   Dividends  Stock Splits  Capital Gains  \n",
       "0        0.0           0.0            0.0  \n",
       "1        0.0           0.0            0.0  \n",
       "2        0.0           0.0            0.0  \n",
       "3        0.0           0.0            0.0  \n",
       "4        0.0           0.0            0.0  "
      ]
     },
     "execution_count": 10,
     "metadata": {},
     "output_type": "execute_result"
    }
   ],
   "source": [
    "sp500_df.head()"
   ]
  },
  {
   "cell_type": "markdown",
   "id": "890907ad-d272-47ab-8377-0b8090aedcf8",
   "metadata": {},
   "source": [
    "### Create Label column on sp500 dataframe"
   ]
  },
  {
   "cell_type": "code",
   "execution_count": 11,
   "id": "06587f16-7a40-4442-b0fe-c782129dd272",
   "metadata": {},
   "outputs": [],
   "source": [
    "# Calculate the diffence in the closing stock price from one day to the next and add this value to a new column Variation in SPY dataset\n",
    "sp500_df['Variation'] = sp500_df['Close'].diff()\n",
    "\n",
    "# Create a feature label based on the diffenrent values of Variation column. \n",
    "      # Values : Increase for > 0, Decrease for <0 and No Change for =0\n",
    "sp500_df['Label'] = np.where(sp500_df['Variation'] > 0, 'Increase', np.where(sp500_df['Variation'] < 0, 'Decrease', 'No Change'))"
   ]
  },
  {
   "cell_type": "code",
   "execution_count": 12,
   "id": "b6b58846-e6f3-44a3-baeb-bfec776acda7",
   "metadata": {},
   "outputs": [
    {
     "data": {
      "text/html": [
       "<div>\n",
       "<style scoped>\n",
       "    .dataframe tbody tr th:only-of-type {\n",
       "        vertical-align: middle;\n",
       "    }\n",
       "\n",
       "    .dataframe tbody tr th {\n",
       "        vertical-align: top;\n",
       "    }\n",
       "\n",
       "    .dataframe thead th {\n",
       "        text-align: right;\n",
       "    }\n",
       "</style>\n",
       "<table border=\"1\" class=\"dataframe\">\n",
       "  <thead>\n",
       "    <tr style=\"text-align: right;\">\n",
       "      <th></th>\n",
       "      <th>Date</th>\n",
       "      <th>Open</th>\n",
       "      <th>High</th>\n",
       "      <th>Low</th>\n",
       "      <th>Close</th>\n",
       "      <th>Volume</th>\n",
       "      <th>Dividends</th>\n",
       "      <th>Stock Splits</th>\n",
       "      <th>Capital Gains</th>\n",
       "      <th>Variation</th>\n",
       "      <th>Label</th>\n",
       "    </tr>\n",
       "  </thead>\n",
       "  <tbody>\n",
       "    <tr>\n",
       "      <th>0</th>\n",
       "      <td>2017-12-18</td>\n",
       "      <td>240.937973</td>\n",
       "      <td>241.387317</td>\n",
       "      <td>240.830135</td>\n",
       "      <td>241.027847</td>\n",
       "      <td>83653600</td>\n",
       "      <td>0.0</td>\n",
       "      <td>0.0</td>\n",
       "      <td>0.0</td>\n",
       "      <td>NaN</td>\n",
       "      <td>No Change</td>\n",
       "    </tr>\n",
       "    <tr>\n",
       "      <th>1</th>\n",
       "      <td>2017-12-19</td>\n",
       "      <td>241.279527</td>\n",
       "      <td>241.324450</td>\n",
       "      <td>240.030339</td>\n",
       "      <td>240.102249</td>\n",
       "      <td>82382900</td>\n",
       "      <td>0.0</td>\n",
       "      <td>0.0</td>\n",
       "      <td>0.0</td>\n",
       "      <td>-0.925598</td>\n",
       "      <td>Decrease</td>\n",
       "    </tr>\n",
       "    <tr>\n",
       "      <th>2</th>\n",
       "      <td>2017-12-20</td>\n",
       "      <td>241.090804</td>\n",
       "      <td>241.144723</td>\n",
       "      <td>239.670890</td>\n",
       "      <td>239.976440</td>\n",
       "      <td>76751500</td>\n",
       "      <td>0.0</td>\n",
       "      <td>0.0</td>\n",
       "      <td>0.0</td>\n",
       "      <td>-0.125809</td>\n",
       "      <td>Decrease</td>\n",
       "    </tr>\n",
       "    <tr>\n",
       "      <th>3</th>\n",
       "      <td>2017-12-21</td>\n",
       "      <td>240.614451</td>\n",
       "      <td>241.198619</td>\n",
       "      <td>240.219026</td>\n",
       "      <td>240.470657</td>\n",
       "      <td>67032300</td>\n",
       "      <td>0.0</td>\n",
       "      <td>0.0</td>\n",
       "      <td>0.0</td>\n",
       "      <td>0.494217</td>\n",
       "      <td>Increase</td>\n",
       "    </tr>\n",
       "    <tr>\n",
       "      <th>4</th>\n",
       "      <td>2017-12-22</td>\n",
       "      <td>240.488685</td>\n",
       "      <td>240.524640</td>\n",
       "      <td>239.859593</td>\n",
       "      <td>240.407806</td>\n",
       "      <td>78720900</td>\n",
       "      <td>0.0</td>\n",
       "      <td>0.0</td>\n",
       "      <td>0.0</td>\n",
       "      <td>-0.062851</td>\n",
       "      <td>Decrease</td>\n",
       "    </tr>\n",
       "  </tbody>\n",
       "</table>\n",
       "</div>"
      ],
      "text/plain": [
       "        Date        Open        High         Low       Close    Volume  \\\n",
       "0 2017-12-18  240.937973  241.387317  240.830135  241.027847  83653600   \n",
       "1 2017-12-19  241.279527  241.324450  240.030339  240.102249  82382900   \n",
       "2 2017-12-20  241.090804  241.144723  239.670890  239.976440  76751500   \n",
       "3 2017-12-21  240.614451  241.198619  240.219026  240.470657  67032300   \n",
       "4 2017-12-22  240.488685  240.524640  239.859593  240.407806  78720900   \n",
       "\n",
       "   Dividends  Stock Splits  Capital Gains  Variation      Label  \n",
       "0        0.0           0.0            0.0        NaN  No Change  \n",
       "1        0.0           0.0            0.0  -0.925598   Decrease  \n",
       "2        0.0           0.0            0.0  -0.125809   Decrease  \n",
       "3        0.0           0.0            0.0   0.494217   Increase  \n",
       "4        0.0           0.0            0.0  -0.062851   Decrease  "
      ]
     },
     "execution_count": 12,
     "metadata": {},
     "output_type": "execute_result"
    }
   ],
   "source": [
    "sp500_df.head()"
   ]
  },
  {
   "attachments": {},
   "cell_type": "markdown",
   "id": "70207d69-be5b-45fa-b0c0-31d2afad834c",
   "metadata": {},
   "source": [
    "\n",
    "\n",
    "sp500_df.info()"
   ]
  },
  {
   "cell_type": "markdown",
   "id": "5bdc9ef6-8228-407f-a902-6e54ac981ff2",
   "metadata": {},
   "source": [
    "### Merge dataset"
   ]
  },
  {
   "cell_type": "code",
   "execution_count": 14,
   "id": "327f829f-c53d-4a5b-a144-262ef4b4d694",
   "metadata": {},
   "outputs": [],
   "source": [
    "# Merge both datasets\n",
    "merged_df = pd.merge(headlines_df, sp500_df, on='Date', how='inner')"
   ]
  },
  {
   "cell_type": "code",
   "execution_count": 15,
   "id": "e2f7ec26-8c83-4b3c-897c-915830bddf1b",
   "metadata": {},
   "outputs": [
    {
     "name": "stdout",
     "output_type": "stream",
     "text": [
      "            Date                                          Headlines  \\\n",
      "0     2017-12-18  Universal basic income is no panacea for us – ...   \n",
      "1     2017-12-18  Brexit will usher in a dark chapter for new Br...   \n",
      "2     2017-12-18  Adani scraps USD 2bn deal to outsource Carmich...   \n",
      "3     2017-12-18  Ryanair pilots suspend one-day strike in week ...   \n",
      "4     2017-12-18            Curbs on capitalism in the 21st century   \n",
      "...          ...                                                ...   \n",
      "47260 2020-07-17  BA begins to carry out its 'fire and rehire' t...   \n",
      "47261 2020-07-17  I flew the jumbo for 10 years and never got ov...   \n",
      "47262 2020-07-17  Business live Markets hope for progress over E...   \n",
      "47263 2020-07-17  Silicon Valley has deep pockets for African st...   \n",
      "47264 2020-07-17  On eve of bankruptcy , U . S . firms shower ex...   \n",
      "\n",
      "             Open        High         Low       Close    Volume  Dividends  \\\n",
      "0      240.937973  241.387317  240.830135  241.027847  83653600        0.0   \n",
      "1      240.937973  241.387317  240.830135  241.027847  83653600        0.0   \n",
      "2      240.937973  241.387317  240.830135  241.027847  83653600        0.0   \n",
      "3      240.937973  241.387317  240.830135  241.027847  83653600        0.0   \n",
      "4      240.937973  241.387317  240.830135  241.027847  83653600        0.0   \n",
      "...           ...         ...         ...         ...       ...        ...   \n",
      "47260  303.441243  304.091719  301.423818  303.290405  62774900        0.0   \n",
      "47261  303.441243  304.091719  301.423818  303.290405  62774900        0.0   \n",
      "47262  303.441243  304.091719  301.423818  303.290405  62774900        0.0   \n",
      "47263  303.441243  304.091719  301.423818  303.290405  62774900        0.0   \n",
      "47264  303.441243  304.091719  301.423818  303.290405  62774900        0.0   \n",
      "\n",
      "       Stock Splits  Capital Gains  Variation      Label  \n",
      "0               0.0            0.0        NaN  No Change  \n",
      "1               0.0            0.0        NaN  No Change  \n",
      "2               0.0            0.0        NaN  No Change  \n",
      "3               0.0            0.0        NaN  No Change  \n",
      "4               0.0            0.0        NaN  No Change  \n",
      "...             ...            ...        ...        ...  \n",
      "47260           0.0            0.0   0.876801   Increase  \n",
      "47261           0.0            0.0   0.876801   Increase  \n",
      "47262           0.0            0.0   0.876801   Increase  \n",
      "47263           0.0            0.0   0.876801   Increase  \n",
      "47264           0.0            0.0   0.876801   Increase  \n",
      "\n",
      "[47265 rows x 12 columns]\n"
     ]
    }
   ],
   "source": [
    "# Print merged data\n",
    "print(merged_df)"
   ]
  },
  {
   "cell_type": "markdown",
   "id": "9968b103-8c6c-4afe-869d-8d498c9ca2b3",
   "metadata": {},
   "source": [
    "### Visual Inspection"
   ]
  },
  {
   "cell_type": "code",
   "execution_count": 16,
   "id": "4447a238-1cd6-4303-be43-401ddd352900",
   "metadata": {
    "scrolled": true
   },
   "outputs": [
    {
     "data": {
      "image/png": "[encoded data removed]",
      "text/plain": [
       "<Figure size 640x480 with 1 Axes>"
      ]
     },
     "metadata": {},
     "output_type": "display_data"
    }
   ],
   "source": [
    "# Plot histogram of closing prices to visually inspect the distribution and identify any unusual spikes or gaps.\n",
    "plt.hist(merged_df['Close'], bins=50)\n",
    "plt.xlabel('Close Price')\n",
    "plt.ylabel('Frequency')\n",
    "plt.title('Distribution of Closing Prices')\n",
    "plt.show()"
   ]
  },
  {
   "cell_type": "code",
   "execution_count": 17,
   "id": "8f2667b1-29a8-40f0-b248-d639ce910c77",
   "metadata": {},
   "outputs": [
    {
     "data": {
      "image/png": "[encoded data removed]",
      "text/plain": [
       "<Figure size 1000x600 with 1 Axes>"
      ]
     },
     "metadata": {},
     "output_type": "display_data"
    }
   ],
   "source": [
    "# Bar plot to show the count of lable column\n",
    "plt.figure(figsize=(10, 6))\n",
    "sns.countplot(x='Label', data=merged_df, palette='viridis')\n",
    "plt.title('Count of Each Label Category')\n",
    "plt.xlabel('Label')\n",
    "plt.ylabel('Count')\n",
    "plt.show()"
   ]
  },
  {
   "cell_type": "code",
   "execution_count": 18,
   "id": "6e793c6c-d2eb-4164-ac1e-44b7b496f366",
   "metadata": {},
   "outputs": [],
   "source": [
    "# Filter out \"No Change\" values from the Label column\n",
    "filtered_df = merged_df[merged_df['Label'] != 'No Change'].reset_index(drop=True)\n"
   ]
  },
  {
   "cell_type": "code",
   "execution_count": 19,
   "id": "fb04f97a-9071-4a53-9ee2-d54a8fdffa9c",
   "metadata": {},
   "outputs": [
    {
     "name": "stdout",
     "output_type": "stream",
     "text": [
      "            Date                                          Headlines  \\\n",
      "0     2017-12-19  Business live World markets driven to record h...   \n",
      "1     2017-12-19  UK cannot have a special deal for the City , s...   \n",
      "2     2017-12-19  Top British firms named and shamed on PM's fat...   \n",
      "3     2017-12-19  Come to debtors’ court . See how ministers des...   \n",
      "4     2017-12-19  Nils Pratley on finance Is this the end for bi...   \n",
      "...          ...                                                ...   \n",
      "47095 2020-07-17  BA begins to carry out its 'fire and rehire' t...   \n",
      "47096 2020-07-17  I flew the jumbo for 10 years and never got ov...   \n",
      "47097 2020-07-17  Business live Markets hope for progress over E...   \n",
      "47098 2020-07-17  Silicon Valley has deep pockets for African st...   \n",
      "47099 2020-07-17  On eve of bankruptcy , U . S . firms shower ex...   \n",
      "\n",
      "             Open        High         Low       Close    Volume  Dividends  \\\n",
      "0      241.279527  241.324450  240.030339  240.102249  82382900        0.0   \n",
      "1      241.279527  241.324450  240.030339  240.102249  82382900        0.0   \n",
      "2      241.279527  241.324450  240.030339  240.102249  82382900        0.0   \n",
      "3      241.279527  241.324450  240.030339  240.102249  82382900        0.0   \n",
      "4      241.279527  241.324450  240.030339  240.102249  82382900        0.0   \n",
      "...           ...         ...         ...         ...       ...        ...   \n",
      "47095  303.441243  304.091719  301.423818  303.290405  62774900        0.0   \n",
      "47096  303.441243  304.091719  301.423818  303.290405  62774900        0.0   \n",
      "47097  303.441243  304.091719  301.423818  303.290405  62774900        0.0   \n",
      "47098  303.441243  304.091719  301.423818  303.290405  62774900        0.0   \n",
      "47099  303.441243  304.091719  301.423818  303.290405  62774900        0.0   \n",
      "\n",
      "       Stock Splits  Capital Gains  Variation     Label  \n",
      "0               0.0            0.0  -0.925598  Decrease  \n",
      "1               0.0            0.0  -0.925598  Decrease  \n",
      "2               0.0            0.0  -0.925598  Decrease  \n",
      "3               0.0            0.0  -0.925598  Decrease  \n",
      "4               0.0            0.0  -0.925598  Decrease  \n",
      "...             ...            ...        ...       ...  \n",
      "47095           0.0            0.0   0.876801  Increase  \n",
      "47096           0.0            0.0   0.876801  Increase  \n",
      "47097           0.0            0.0   0.876801  Increase  \n",
      "47098           0.0            0.0   0.876801  Increase  \n",
      "47099           0.0            0.0   0.876801  Increase  \n",
      "\n",
      "[47100 rows x 12 columns]\n"
     ]
    }
   ],
   "source": [
    "print(filtered_df)"
   ]
  },
  {
   "cell_type": "code",
   "execution_count": 20,
   "id": "981f94a4-094d-440c-aaec-20a2c1447a4b",
   "metadata": {},
   "outputs": [
    {
     "data": {
      "image/png": "[encoded data removed]",
      "text/plain": [
       "<Figure size 1000x600 with 1 Axes>"
      ]
     },
     "metadata": {},
     "output_type": "display_data"
    },
    {
     "data": {
      "image/png": "[encoded data removed]",
      "text/plain": [
       "<Figure size 640x480 with 1 Axes>"
      ]
     },
     "metadata": {},
     "output_type": "display_data"
    }
   ],
   "source": [
    "# Replot the Bar plot to show the count of label column\n",
    "plt.figure(figsize=(10, 6))\n",
    "sns.countplot(x='Label', data=filtered_df, palette='viridis')\n",
    "plt.title('Count of Each Label Category')\n",
    "plt.xlabel('Label')\n",
    "plt.ylabel('Count')\n",
    "plt.show()\n",
    "\n",
    "\n",
    "# Re-plot histogram of closing prices to visually inspect the distribution and identify any unusual spikes or gaps.\n",
    "plt.hist(filtered_df['Close'], bins=50)\n",
    "plt.xlabel('Close Price')\n",
    "plt.ylabel('Frequency')\n",
    "plt.title('Distribution of Closing Prices')\n",
    "plt.show()"
   ]
  },
  {
   "cell_type": "markdown",
   "id": "5595b86d-0ffc-4e3d-b86a-ba40a39e7772",
   "metadata": {},
   "source": [
    "### Sentiment Analysis"
   ]
  },
  {
   "cell_type": "code",
   "execution_count": null,
   "id": "43f1da9a-6436-4205-a363-8b3acc3a1a81",
   "metadata": {},
   "outputs": [],
   "source": [
    "# Load pre-trained DistilBERT model and tokenizer from Hugging Face\n",
    "model_name = \"distilbert-base-uncased-finetuned-sst-2-english\"\n",
    "tokenizer = AutoTokenizer.from_pretrained(model_name)\n",
    "model = TFAutoModelForSequenceClassification.from_pretrained(model_name)"
   ]
  },
  {
   "cell_type": "code",
   "execution_count": 22,
   "id": "bc528052-9940-4387-b6bc-8e04a05ea512",
   "metadata": {},
   "outputs": [],
   "source": [
    "# Function to tokenize headlines\n",
    "def tokenize_headlines(headlines):\n",
    "    return tokenizer(headlines, padding=True, truncation=True, max_length=128, return_tensors='tf')\n"
   ]
  },
  {
   "cell_type": "code",
   "execution_count": 23,
   "id": "55cc94c7-3d1d-4cf7-892f-336083da36ae",
   "metadata": {},
   "outputs": [],
   "source": [
    "# Function to apply sentiment analysis on a segment\n",
    "def sentiment_analysis_on_segment(segment):\n",
    "    try:\n",
    "        tokenized_data = tokenize_headlines(segment['Headlines'].tolist())\n",
    "        outputs = model(tokenized_data['input_ids'], attention_mask=tokenized_data['attention_mask'])\n",
    "        print(\"Model Outputs:\", outputs)\n",
    "        logits = outputs.logits\n",
    "        probabilities = tf.nn.softmax(logits, axis=-1)\n",
    "        predicted_labels = tf.argmax(probabilities, axis=1).numpy()\n",
    "        print(\"Predicted Labels:\", predicted_labels)\n",
    "        \n",
    "        label_map = {0: 'negative', 1: 'positive'}  # Adjust based on your model's output labels\n",
    "        segment['Sentiment'] = [label_map.get(pred, 'Unknown') for pred in predicted_labels]\n",
    "    \n",
    "    except Exception as e:\n",
    "        print(f\"Error processing segment: {e}\")\n",
    "        segment['Sentiment'] = None\n",
    "    \n",
    "    return segment\n",
    "\n"
   ]
  },
  {
   "cell_type": "code",
   "execution_count": null,
   "id": "06077e5e-6062-48bb-9f54-c4b0fe876a1d",
   "metadata": {},
   "outputs": [],
   "source": [
    "# Define chunk size for segmentation, taking 1405 seconds\n",
    "chunk_size = 500  # Adjust based on your memory capacity\n",
    "\n",
    "# Segment the data and perform sentiment analysis on each segment\n",
    "segments = [filtered_df[i:i + chunk_size] for i in range(0, filtered_df.shape[0], chunk_size)]\n",
    "results = []\n",
    "\n",
    "for segment in segments:\n",
    "    result = sentiment_analysis_on_segment(segment)\n",
    "    results.append(result)\n",
    "    tf.keras.backend.clear_session()  # Clear session to free memory\n",
    "\n",
    "# Combine the results\n",
    "final_df = pd.concat(results, axis=0).reset_index(drop=True)\n",
    "\n",
    "# Save the final dataframe with sentiments\n",
    "final_df.to_csv('Hemant_final_sentiment_analysis.csv', index=False)\n",
    "\n",
    "# Inspect the final dataframe\n",
    "print(final_df.head())"
   ]
  },
  {
   "cell_type": "code",
   "execution_count": null,
   "id": "6afef5e7-ea03-4d42-8858-4e3120324df7",
   "metadata": {},
   "outputs": [],
   "source": [
    "# Inspect the final dataframe\n",
    "print(final_df.head())"
   ]
  },
  {
   "cell_type": "code",
   "execution_count": 26,
   "id": "b9607ab2-d1b6-4729-a10a-be5aba334afc",
   "metadata": {},
   "outputs": [
    {
     "name": "stdout",
     "output_type": "stream",
     "text": [
      "0\n"
     ]
    }
   ],
   "source": [
    "# Check for missing values\n",
    "print(filtered_df['Headlines'].isna().sum())"
   ]
  },
  {
   "cell_type": "code",
   "execution_count": 27,
   "id": "8990fc76-6847-4675-b05f-4293a2ee0fe1",
   "metadata": {},
   "outputs": [],
   "source": [
    "# Convert sentiment labels to numerical values\n",
    "final_df['Sentiment_Score'] = final_df['Sentiment'].map({'positive': 1, 'negative': 0})\n",
    "\n",
    "# Convert label to score values\n",
    "final_df['Label_Score'] = final_df['Label'].map({'Increase': 1, 'Decrease': 0})  # Convert labels to numerical"
   ]
  },
  {
   "cell_type": "code",
   "execution_count": 28,
   "id": "e190e855-c6d6-4bd5-bb5c-8a0eaf5ae446",
   "metadata": {},
   "outputs": [
    {
     "name": "stdout",
     "output_type": "stream",
     "text": [
      "        Date                                          Headlines        Open  \\\n",
      "0 2017-12-19  Business live World markets driven to record h...  241.279527   \n",
      "1 2017-12-19  UK cannot have a special deal for the City , s...  241.279527   \n",
      "2 2017-12-19  Top British firms named and shamed on PM's fat...  241.279527   \n",
      "3 2017-12-19  Come to debtors’ court . See how ministers des...  241.279527   \n",
      "4 2017-12-19  Nils Pratley on finance Is this the end for bi...  241.279527   \n",
      "\n",
      "        High         Low       Close    Volume  Dividends  Stock Splits  \\\n",
      "0  241.32445  240.030339  240.102249  82382900        0.0           0.0   \n",
      "1  241.32445  240.030339  240.102249  82382900        0.0           0.0   \n",
      "2  241.32445  240.030339  240.102249  82382900        0.0           0.0   \n",
      "3  241.32445  240.030339  240.102249  82382900        0.0           0.0   \n",
      "4  241.32445  240.030339  240.102249  82382900        0.0           0.0   \n",
      "\n",
      "   Capital Gains  Variation     Label Sentiment  Sentiment_Score  Label_Score  \n",
      "0            0.0  -0.925598  Decrease  positive                1            0  \n",
      "1            0.0  -0.925598  Decrease  negative                0            0  \n",
      "2            0.0  -0.925598  Decrease  negative                0            0  \n",
      "3            0.0  -0.925598  Decrease  negative                0            0  \n",
      "4            0.0  -0.925598  Decrease  negative                0            0  \n",
      "Sentiment_Score    0\n",
      "Close              0\n",
      "Variation          0\n",
      "Label_Score        0\n",
      "dtype: int64\n"
     ]
    }
   ],
   "source": [
    "# Inspect the final dataframe\n",
    "print(final_df.head())\n",
    "\n",
    "#Check for null or missing values\n",
    "print(final_df[['Sentiment_Score', 'Close', 'Variation', 'Label_Score']].isna().sum())"
   ]
  },
  {
   "cell_type": "code",
   "execution_count": 30,
   "id": "45668c4f-4d15-40eb-b5ac-fe7c760d567a",
   "metadata": {},
   "outputs": [
    {
     "data": {
      "image/png": "[encoded data removed]",
      "text/plain": [
       "<Figure size 1000x600 with 1 Axes>"
      ]
     },
     "metadata": {},
     "output_type": "display_data"
    },
    {
     "data": {
      "image/png": "[encoded data removed]",
      "text/plain": [
       "<Figure size 1000x600 with 1 Axes>"
      ]
     },
     "metadata": {},
     "output_type": "display_data"
    }
   ],
   "source": [
    "# Visualize the data\n",
    "plt.figure(figsize=(10, 6))\n",
    "sns.countplot(x='Label_Score', data=final_df, palette='viridis')\n",
    "plt.title('Count of Each Label Category')\n",
    "plt.xlabel('Label')\n",
    "plt.ylabel('Count')\n",
    "plt.show()\n",
    "\n",
    "plt.figure(figsize=(10, 6))\n",
    "plt.hist(final_df['Sentiment_Score'], bins=20)\n",
    "plt.xlabel('Sentiment Score')\n",
    "plt.ylabel('Frequency')\n",
    "plt.title('Distribution of Sentiment Scores')\n",
    "plt.show()\n",
    "\n"
   ]
  },
  {
   "cell_type": "markdown",
   "id": "4b3b8e2f-234f-4f62-aa61-017a78a6252a",
   "metadata": {},
   "source": [
    "#### Checking correlation between features and label"
   ]
  },
  {
   "cell_type": "code",
   "execution_count": 31,
   "id": "15ce9be1-ca1e-4214-9b4f-ae70a5b9d760",
   "metadata": {},
   "outputs": [
    {
     "data": {
      "image/png": "[encoded data removed]",
      "text/plain": [
       "<Figure size 1000x800 with 2 Axes>"
      ]
     },
     "metadata": {},
     "output_type": "display_data"
    }
   ],
   "source": [
    "import seaborn as sns\n",
    "import matplotlib.pyplot as plt\n",
    "\n",
    "# Compute correlation matrix\n",
    "corr_matrix = final_df[['Sentiment_Score', 'Close', 'Variation', 'Label_Score']].corr()\n",
    "\n",
    "# Plot the correlation matrix\n",
    "plt.figure(figsize=(10, 8))\n",
    "sns.heatmap(corr_matrix, annot=True, cmap='coolwarm', fmt='.2f', vmin=-1, vmax=1)\n",
    "plt.title('Correlation Matrix')\n",
    "plt.show()\n"
   ]
  },
  {
   "cell_type": "markdown",
   "id": "f2ccc810-ddbe-4a6e-b094-ec466504b872",
   "metadata": {},
   "source": [
    "### Model Training and Evaluation"
   ]
  },
  {
   "cell_type": "markdown",
   "id": "94d18425-8c14-4ece-8e4d-2de0e0c9ed58",
   "metadata": {},
   "source": [
    "#### Using RandomforestClassifier"
   ]
  },
  {
   "cell_type": "code",
   "execution_count": 41,
   "id": "cc2af2e7-57f0-45ec-a966-7f67daa8f334",
   "metadata": {},
   "outputs": [
    {
     "name": "stdout",
     "output_type": "stream",
     "text": [
      "Accuracy: 0.5570063694267516\n",
      "Classification Report:\n",
      "               precision    recall  f1-score   support\n",
      "\n",
      "           0       0.00      0.00      0.00      4173\n",
      "           1       0.56      1.00      0.72      5247\n",
      "\n",
      "    accuracy                           0.56      9420\n",
      "   macro avg       0.28      0.50      0.36      9420\n",
      "weighted avg       0.31      0.56      0.40      9420\n",
      "\n"
     ]
    }
   ],
   "source": [
    "# Suppress warnings\n",
    "import warnings\n",
    "warnings.filterwarnings('ignore')\n",
    "\n",
    "# Select features and target variable\n",
    "X = final_df[['Sentiment_Score']]  \n",
    "#X = final_df[['Sentiment_Score','Close']]  \n",
    "y = final_df['Label_Score']  \n",
    "\n",
    "# Split the data into training and testing sets\n",
    "X_train, X_test, y_train, y_test = train_test_split(X, y, test_size=0.2, random_state=42)\n",
    "\n",
    "# Initialize and train the Random Forest model\n",
    "rf_model = RandomForestClassifier(n_estimators=200,max_depth=10, random_state=42)\n",
    "rf_model.fit(X_train, y_train)\n",
    "\n",
    "# Make predictions on the test set\n",
    "y_predrf = rf_model.predict(X_test)\n",
    "\n",
    "# Evaluate the model's performance\n",
    "print(\"Accuracy:\", accuracy_score(y_test, y_predrf))\n",
    "print(\"Classification Report:\\n\", classification_report(y_test, y_predrf))"
   ]
  },
  {
   "cell_type": "markdown",
   "id": "c6152d08-dd21-4378-a108-2c7f7c0e8e04",
   "metadata": {},
   "source": [
    "#### Using XGBoostClassifier"
   ]
  },
  {
   "cell_type": "code",
   "execution_count": 42,
   "id": "3a8571fe-2fe3-4531-8c01-363ee4eed0fe",
   "metadata": {},
   "outputs": [
    {
     "name": "stdout",
     "output_type": "stream",
     "text": [
      "Accuracy: 0.5570063694267516\n",
      "Classification Report:\n",
      "               precision    recall  f1-score   support\n",
      "\n",
      "           0       0.00      0.00      0.00      4173\n",
      "           1       0.56      1.00      0.72      5247\n",
      "\n",
      "    accuracy                           0.56      9420\n",
      "   macro avg       0.28      0.50      0.36      9420\n",
      "weighted avg       0.31      0.56      0.40      9420\n",
      "\n"
     ]
    }
   ],
   "source": [
    "import xgboost as xgb\n",
    "\n",
    "xgb_model = xgb.XGBClassifier(use_label_encoder=False, eval_metric='mlogloss')\n",
    "xgb_model.fit(X_train, y_train)\n",
    "y_predXg = xgb_model.predict(X_test)\n",
    "\n",
    "# Evaluate the model's performance\n",
    "print(\"Accuracy:\", accuracy_score(y_test, y_predXg))\n",
    "print(\"Classification Report:\\n\", classification_report(y_test, y_predXg))"
   ]
  },
  {
   "cell_type": "markdown",
   "id": "0657f747-3e66-4117-90f2-ea045c3f5974",
   "metadata": {},
   "source": [
    "#### Redefining XGBoostClassifier "
   ]
  },
  {
   "cell_type": "code",
   "execution_count": 43,
   "id": "7a15cfb3-c090-4959-b635-6ad876eed007",
   "metadata": {},
   "outputs": [
    {
     "name": "stdout",
     "output_type": "stream",
     "text": [
      "Best Parameters: {'learning_rate': 0.01, 'max_depth': 3, 'n_estimators': 50}\n",
      "Accuracy: 0.5570063694267516\n",
      "Classification Report:\n",
      "               precision    recall  f1-score   support\n",
      "\n",
      "           0       0.00      0.00      0.00      4173\n",
      "           1       0.56      1.00      0.72      5247\n",
      "\n",
      "    accuracy                           0.56      9420\n",
      "   macro avg       0.28      0.50      0.36      9420\n",
      "weighted avg       0.31      0.56      0.40      9420\n",
      "\n"
     ]
    }
   ],
   "source": [
    "from sklearn.model_selection import GridSearchCV\n",
    "from sklearn.metrics import accuracy_score, classification_report\n",
    "import xgboost as xgb\n",
    "\n",
    "# Define parameter grid for XGBoost\n",
    "param_grid = {\n",
    "    'learning_rate': [0.01, 0.1, 0.2],\n",
    "    'max_depth': [3, 5, 7],\n",
    "    'n_estimators': [50, 100, 200]\n",
    "}\n",
    "\n",
    "# Initialize XGBoost model\n",
    "xgb_model = xgb.XGBClassifier(use_label_encoder=False, eval_metric='mlogloss')\n",
    "\n",
    "# Grid Search\n",
    "grid_search = GridSearchCV(estimator=xgb_model, param_grid=param_grid, cv=5, scoring='accuracy')\n",
    "grid_search.fit(X_train, y_train)\n",
    "\n",
    "# Print the best parameters found by GridSearchCV\n",
    "print(\"Best Parameters:\", grid_search.best_params_)\n",
    "\n",
    "# Use the best model for predictions\n",
    "best_model = grid_search.best_estimator_\n",
    "y_predXgb = best_model.predict(X_test)\n",
    "\n",
    "# Evaluate the model's performance\n",
    "print(\"Accuracy:\", accuracy_score(y_test, y_predXgb))\n",
    "print(\"Classification Report:\\n\", classification_report(y_test, y_predXgb))\n"
   ]
  },
  {
   "cell_type": "code",
   "execution_count": null,
   "id": "fc883783-f12e-4fa8-bf06-27437ad1dd30",
   "metadata": {},
   "outputs": [],
   "source": []
  }
 ],
 "metadata": {
  "kernelspec": {
   "display_name": "Python 3 (ipykernel)",
   "language": "python",
   "name": "python3"
  },
  "language_info": {
   "codemirror_mode": {
    "name": "ipython",
    "version": 3
   },
   "file_extension": ".py",
   "mimetype": "text/x-python",
   "name": "python",
   "nbconvert_exporter": "python",
   "pygments_lexer": "ipython3",
   "version": "3.11.7"
  }
 },
 "nbformat": 4,
 "nbformat_minor": 5
}
