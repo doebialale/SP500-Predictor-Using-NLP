{
  "nbformat": 4,
  "nbformat_minor": 0,
  "metadata": {
    "colab": {
      "provenance": []
    },
    "kernelspec": {
      "name": "python3",
      "display_name": "Python 3"
    },
    "language_info": {
      "name": "python"
    }
  },
  "cells": [
    {
      "cell_type": "code",
      "execution_count": 1,
      "metadata": {
        "id": "hZ2XUHJcVsg1"
      },
      "outputs": [],
      "source": [
        "import pandas as pd\n"
      ]
    },
    {
      "cell_type": "code",
      "source": [
        "file_path = '/content/combined_headlines_new.csv'\n",
        "\n",
        "data = pd.read_csv(file_path)\n",
        "print(data.head())"
      ],
      "metadata": {
        "colab": {
          "base_uri": "https://localhost:8080/"
        },
        "id": "KXT_lxRkV62W",
        "outputId": "8614589a-372c-4004-992a-dfc49ded3d18"
      },
      "execution_count": 3,
      "outputs": [
        {
          "output_type": "stream",
          "name": "stdout",
          "text": [
            "         date                                          headlines\n",
            "0  2020-07-17  Jim Cramer : A better way to invest in the Cov...\n",
            "1  2020-07-17    Cramer's lightning round : I would own Teradyne\n",
            "2  2020-07-17  Cramer's week ahead : Big week for earnings , ...\n",
            "3  2020-07-17  IQ Capital CEO Keith Bliss says tech and healt...\n",
            "4  2020-07-16  Wall Street delivered the 'kind of pullback I'...\n"
          ]
        }
      ]
    },
    {
      "cell_type": "code",
      "source": [
        "def clean_text(text):\n",
        "  text = text.lower()\n",
        "  text = text.replace('\\n', ' ')\n",
        "  text = text.replace('[^a-zA-Z]', ' ')\n",
        "  return text"
      ],
      "metadata": {
        "id": "oUY0GliVWiw2"
      },
      "execution_count": 5,
      "outputs": []
    },
    {
      "cell_type": "code",
      "source": [
        "data['cleaned_headlines'] = data['headlines'].apply(clean_text)\n",
        "print(data.head())"
      ],
      "metadata": {
        "colab": {
          "base_uri": "https://localhost:8080/"
        },
        "id": "UvQSGxdRW7r8",
        "outputId": "5115b5a1-d27f-4ea6-fbf8-d7a500cb19c3"
      },
      "execution_count": 6,
      "outputs": [
        {
          "output_type": "stream",
          "name": "stdout",
          "text": [
            "         date                                          headlines  \\\n",
            "0  2020-07-17  Jim Cramer : A better way to invest in the Cov...   \n",
            "1  2020-07-17    Cramer's lightning round : I would own Teradyne   \n",
            "2  2020-07-17  Cramer's week ahead : Big week for earnings , ...   \n",
            "3  2020-07-17  IQ Capital CEO Keith Bliss says tech and healt...   \n",
            "4  2020-07-16  Wall Street delivered the 'kind of pullback I'...   \n",
            "\n",
            "                                   cleaned_headlines  \n",
            "0  jim cramer : a better way to invest in the cov...  \n",
            "1    cramer's lightning round : i would own teradyne  \n",
            "2  cramer's week ahead : big week for earnings , ...  \n",
            "3  iq capital ceo keith bliss says tech and healt...  \n",
            "4  wall street delivered the 'kind of pullback i'...  \n"
          ]
        }
      ]
    },
    {
      "cell_type": "code",
      "source": [
        "import yfinance as yf"
      ],
      "metadata": {
        "id": "y8X6e82ZXEHN"
      },
      "execution_count": 7,
      "outputs": []
    },
    {
      "cell_type": "code",
      "source": [
        "spy_data = yf.download('SPY', start= '2020-01-01', end='2023-01-01')\n",
        "spy_data.reset_index(inplace=True)"
      ],
      "metadata": {
        "colab": {
          "base_uri": "https://localhost:8080/"
        },
        "id": "FsMNPWf4XY3m",
        "outputId": "1a73067f-1c36-4872-e6de-d21d4d618001"
      },
      "execution_count": 8,
      "outputs": [
        {
          "output_type": "stream",
          "name": "stderr",
          "text": [
            "\r[*********************100%%**********************]  1 of 1 completed\n"
          ]
        }
      ]
    },
    {
      "cell_type": "code",
      "source": [
        "spy_data = spy_data[['Date', 'Adj Close']]\n",
        "spy_data.rename(columns= {'Adj Close': 'spy_price'}, inplace=True)"
      ],
      "metadata": {
        "colab": {
          "base_uri": "https://localhost:8080/"
        },
        "id": "5wELS2uPXoNs",
        "outputId": "64b9f0af-2dde-4787-b807-41c3a8920c92"
      },
      "execution_count": 9,
      "outputs": [
        {
          "output_type": "stream",
          "name": "stderr",
          "text": [
            "<ipython-input-9-714537a9927d>:2: SettingWithCopyWarning: \n",
            "A value is trying to be set on a copy of a slice from a DataFrame\n",
            "\n",
            "See the caveats in the documentation: https://pandas.pydata.org/pandas-docs/stable/user_guide/indexing.html#returning-a-view-versus-a-copy\n",
            "  spy_data.rename(columns= {'Adj Close': 'spy_price'}, inplace=True)\n"
          ]
        }
      ]
    },
    {
      "cell_type": "code",
      "source": [
        "data['Date'] = pd.to_datetime(data['date'])\n",
        "merged_data = pd.merge(data, spy_data, how='left', left_on= 'Date', right_on='Date')"
      ],
      "metadata": {
        "id": "WyYCYLIpX6v7"
      },
      "execution_count": 10,
      "outputs": []
    },
    {
      "cell_type": "code",
      "source": [
        "print(merged_data.head())"
      ],
      "metadata": {
        "colab": {
          "base_uri": "https://localhost:8080/"
        },
        "id": "nua9uS4NYXd0",
        "outputId": "ed214863-b7a2-44e1-9e67-bb63956e99bf"
      },
      "execution_count": 11,
      "outputs": [
        {
          "output_type": "stream",
          "name": "stdout",
          "text": [
            "         date                                          headlines  \\\n",
            "0  2020-07-17  Jim Cramer : A better way to invest in the Cov...   \n",
            "1  2020-07-17    Cramer's lightning round : I would own Teradyne   \n",
            "2  2020-07-17  Cramer's week ahead : Big week for earnings , ...   \n",
            "3  2020-07-17  IQ Capital CEO Keith Bliss says tech and healt...   \n",
            "4  2020-07-16  Wall Street delivered the 'kind of pullback I'...   \n",
            "\n",
            "                                   cleaned_headlines       Date   spy_price  \n",
            "0  jim cramer : a better way to invest in the cov... 2020-07-17  303.290314  \n",
            "1    cramer's lightning round : i would own teradyne 2020-07-17  303.290314  \n",
            "2  cramer's week ahead : big week for earnings , ... 2020-07-17  303.290314  \n",
            "3  iq capital ceo keith bliss says tech and healt... 2020-07-17  303.290314  \n",
            "4  wall street delivered the 'kind of pullback i'... 2020-07-16  302.413696  \n"
          ]
        }
      ]
    },
    {
      "cell_type": "code",
      "source": [
        "merged_data['price_change'] = merged_data['spy_price'].pct_change()\n",
        "merged_data['target'] = (merged_data['price_change'] > 0).astype(int)\n",
        "merged_data.dropna(subset=['price_change'], inplace=True)"
      ],
      "metadata": {
        "id": "Y1dMbsCha9-G",
        "colab": {
          "base_uri": "https://localhost:8080/"
        },
        "outputId": "219319c3-c90a-450d-ba2c-7a61a78a8666"
      },
      "execution_count": 15,
      "outputs": [
        {
          "output_type": "stream",
          "name": "stderr",
          "text": [
            "<ipython-input-15-7ef1ea9759e2>:1: FutureWarning: The default fill_method='pad' in Series.pct_change is deprecated and will be removed in a future version. Either fill in any non-leading NA values prior to calling pct_change or specify 'fill_method=None' to not fill NA values.\n",
            "  merged_data['price_change'] = merged_data['spy_price'].pct_change()\n"
          ]
        }
      ]
    },
    {
      "cell_type": "code",
      "source": [
        "print(merged_data[['Date', 'spy_price', 'price_change', 'target']].head())"
      ],
      "metadata": {
        "colab": {
          "base_uri": "https://localhost:8080/"
        },
        "id": "RpmiwlZczBku",
        "outputId": "4bdc9e3f-0447-45d9-e483-41d5dd53f397"
      },
      "execution_count": 16,
      "outputs": [
        {
          "output_type": "stream",
          "name": "stdout",
          "text": [
            "        Date   spy_price  price_change  target\n",
            "1 2020-07-17  303.290314       0.00000       0\n",
            "2 2020-07-17  303.290314       0.00000       0\n",
            "3 2020-07-17  303.290314       0.00000       0\n",
            "4 2020-07-16  302.413696      -0.00289       0\n",
            "5 2020-07-16  302.413696       0.00000       0\n"
          ]
        }
      ]
    },
    {
      "cell_type": "code",
      "source": [
        "#Finalize the Dataset\n",
        "\n",
        "final_data = merged_data[['cleaned_headlines', 'target']]"
      ],
      "metadata": {
        "id": "t8tfS4DODoIQ"
      },
      "execution_count": 17,
      "outputs": []
    },
    {
      "cell_type": "code",
      "source": [
        "print(final_data['target'].value_counts())"
      ],
      "metadata": {
        "colab": {
          "base_uri": "https://localhost:8080/"
        },
        "id": "4syQ_B_VTnWR",
        "outputId": "7d772a14-fac6-40d3-8f10-e390d614f529"
      },
      "execution_count": 18,
      "outputs": [
        {
          "output_type": "stream",
          "name": "stdout",
          "text": [
            "target\n",
            "0    53141\n",
            "1      188\n",
            "Name: count, dtype: int64\n"
          ]
        }
      ]
    },
    {
      "cell_type": "code",
      "source": [
        "print(final_data.head())"
      ],
      "metadata": {
        "colab": {
          "base_uri": "https://localhost:8080/"
        },
        "id": "mmpcw9vTTvLS",
        "outputId": "9e3e8119-7fc4-4a3d-b581-a7f725cfdfff"
      },
      "execution_count": 26,
      "outputs": [
        {
          "output_type": "stream",
          "name": "stdout",
          "text": [
            "                                   cleaned_headlines  target\n",
            "1    cramer's lightning round : i would own teradyne       0\n",
            "2  cramer's week ahead : big week for earnings , ...       0\n",
            "3  iq capital ceo keith bliss says tech and healt...       0\n",
            "4  wall street delivered the 'kind of pullback i'...       0\n",
            "5  cramer's lightning round : i would just stay l...       0\n"
          ]
        }
      ]
    },
    {
      "cell_type": "code",
      "source": [],
      "metadata": {
        "id": "CV92eBrvT2Wl"
      },
      "execution_count": 23,
      "outputs": []
    },
    {
      "cell_type": "code",
      "source": [],
      "metadata": {
        "id": "LmUWIr1iVOjj"
      },
      "execution_count": null,
      "outputs": []
    }
  ]
}