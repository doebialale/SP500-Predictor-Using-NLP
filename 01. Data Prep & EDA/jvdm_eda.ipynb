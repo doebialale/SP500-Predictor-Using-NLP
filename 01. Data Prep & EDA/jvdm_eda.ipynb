{
 "cells": [
  {
   "cell_type": "markdown",
   "id": "c7fc149d-7278-4bb1-91dc-5a12b6a6f3bc",
   "metadata": {},
   "source": [
    "### EDA"
   ]
  },
  {
   "cell_type": "code",
   "execution_count": 1,
   "id": "0107f67a-79b9-49f2-b41e-57cd634f3772",
   "metadata": {},
   "outputs": [],
   "source": [
    "import pandas as pd\n",
    "import matplotlib.pyplot as plt\n",
    "import seaborn as sns"
   ]
  },
  {
   "cell_type": "code",
   "execution_count": 2,
   "id": "973ad8c1-0871-480b-b53f-afbbee85f768",
   "metadata": {},
   "outputs": [],
   "source": [
    "data = pd.read_csv(\"../data/jvdm_data_prep.csv\")"
   ]
  },
  {
   "cell_type": "code",
   "execution_count": 3,
   "id": "750008c9-d32f-4830-b59f-f83b6a1a18fe",
   "metadata": {},
   "outputs": [
    {
     "data": {
      "text/html": [
       "<div>\n",
       "<style scoped>\n",
       "    .dataframe tbody tr th:only-of-type {\n",
       "        vertical-align: middle;\n",
       "    }\n",
       "\n",
       "    .dataframe tbody tr th {\n",
       "        vertical-align: top;\n",
       "    }\n",
       "\n",
       "    .dataframe thead th {\n",
       "        text-align: right;\n",
       "    }\n",
       "</style>\n",
       "<table border=\"1\" class=\"dataframe\">\n",
       "  <thead>\n",
       "    <tr style=\"text-align: right;\">\n",
       "      <th></th>\n",
       "      <th>Date</th>\n",
       "      <th>Headlines</th>\n",
       "      <th>Close</th>\n",
       "      <th>Close+1</th>\n",
       "      <th>Close+2</th>\n",
       "      <th>Close+3</th>\n",
       "      <th>Close+4</th>\n",
       "      <th>Close+5</th>\n",
       "      <th>Close+6</th>\n",
       "      <th>Close+7</th>\n",
       "      <th>...</th>\n",
       "      <th>PercentageD+5</th>\n",
       "      <th>PercentageD+6</th>\n",
       "      <th>PercentageD+7</th>\n",
       "      <th>TrendD+1</th>\n",
       "      <th>TrendD+2</th>\n",
       "      <th>TrendD+3</th>\n",
       "      <th>TrendD+4</th>\n",
       "      <th>TrendD+5</th>\n",
       "      <th>TrendD+6</th>\n",
       "      <th>TrendD+7</th>\n",
       "    </tr>\n",
       "  </thead>\n",
       "  <tbody>\n",
       "    <tr>\n",
       "      <th>0</th>\n",
       "      <td>2017-12-17</td>\n",
       "      <td>The Guardian view on Ryanair’s model : a union...</td>\n",
       "      <td>239.5091</td>\n",
       "      <td>241.0279</td>\n",
       "      <td>240.1023</td>\n",
       "      <td>239.9764</td>\n",
       "      <td>240.4707</td>\n",
       "      <td>240.4078</td>\n",
       "      <td>240.4078</td>\n",
       "      <td>240.4078</td>\n",
       "      <td>...</td>\n",
       "      <td>0.3752</td>\n",
       "      <td>0.3752</td>\n",
       "      <td>0.3752</td>\n",
       "      <td>2</td>\n",
       "      <td>1</td>\n",
       "      <td>1</td>\n",
       "      <td>1</td>\n",
       "      <td>1</td>\n",
       "      <td>1</td>\n",
       "      <td>1</td>\n",
       "    </tr>\n",
       "    <tr>\n",
       "      <th>1</th>\n",
       "      <td>2017-12-17</td>\n",
       "      <td>Butchers carve out a niche as UK shoppers opt ...</td>\n",
       "      <td>239.5091</td>\n",
       "      <td>241.0279</td>\n",
       "      <td>240.1023</td>\n",
       "      <td>239.9764</td>\n",
       "      <td>240.4707</td>\n",
       "      <td>240.4078</td>\n",
       "      <td>240.4078</td>\n",
       "      <td>240.4078</td>\n",
       "      <td>...</td>\n",
       "      <td>0.3752</td>\n",
       "      <td>0.3752</td>\n",
       "      <td>0.3752</td>\n",
       "      <td>2</td>\n",
       "      <td>1</td>\n",
       "      <td>1</td>\n",
       "      <td>1</td>\n",
       "      <td>1</td>\n",
       "      <td>1</td>\n",
       "      <td>1</td>\n",
       "    </tr>\n",
       "    <tr>\n",
       "      <th>2</th>\n",
       "      <td>2017-12-17</td>\n",
       "      <td>Grogonomics This year has been about companies...</td>\n",
       "      <td>239.5091</td>\n",
       "      <td>241.0279</td>\n",
       "      <td>240.1023</td>\n",
       "      <td>239.9764</td>\n",
       "      <td>240.4707</td>\n",
       "      <td>240.4078</td>\n",
       "      <td>240.4078</td>\n",
       "      <td>240.4078</td>\n",
       "      <td>...</td>\n",
       "      <td>0.3752</td>\n",
       "      <td>0.3752</td>\n",
       "      <td>0.3752</td>\n",
       "      <td>2</td>\n",
       "      <td>1</td>\n",
       "      <td>1</td>\n",
       "      <td>1</td>\n",
       "      <td>1</td>\n",
       "      <td>1</td>\n",
       "      <td>1</td>\n",
       "    </tr>\n",
       "    <tr>\n",
       "      <th>3</th>\n",
       "      <td>2017-12-17</td>\n",
       "      <td>Youngest staff to be given UK workplace pensio...</td>\n",
       "      <td>239.5091</td>\n",
       "      <td>241.0279</td>\n",
       "      <td>240.1023</td>\n",
       "      <td>239.9764</td>\n",
       "      <td>240.4707</td>\n",
       "      <td>240.4078</td>\n",
       "      <td>240.4078</td>\n",
       "      <td>240.4078</td>\n",
       "      <td>...</td>\n",
       "      <td>0.3752</td>\n",
       "      <td>0.3752</td>\n",
       "      <td>0.3752</td>\n",
       "      <td>2</td>\n",
       "      <td>1</td>\n",
       "      <td>1</td>\n",
       "      <td>1</td>\n",
       "      <td>1</td>\n",
       "      <td>1</td>\n",
       "      <td>1</td>\n",
       "    </tr>\n",
       "    <tr>\n",
       "      <th>4</th>\n",
       "      <td>2017-12-17</td>\n",
       "      <td>Peter Preston on press and broadcasting Paul D...</td>\n",
       "      <td>239.5091</td>\n",
       "      <td>241.0279</td>\n",
       "      <td>240.1023</td>\n",
       "      <td>239.9764</td>\n",
       "      <td>240.4707</td>\n",
       "      <td>240.4078</td>\n",
       "      <td>240.4078</td>\n",
       "      <td>240.4078</td>\n",
       "      <td>...</td>\n",
       "      <td>0.3752</td>\n",
       "      <td>0.3752</td>\n",
       "      <td>0.3752</td>\n",
       "      <td>2</td>\n",
       "      <td>1</td>\n",
       "      <td>1</td>\n",
       "      <td>1</td>\n",
       "      <td>1</td>\n",
       "      <td>1</td>\n",
       "      <td>1</td>\n",
       "    </tr>\n",
       "    <tr>\n",
       "      <th>...</th>\n",
       "      <td>...</td>\n",
       "      <td>...</td>\n",
       "      <td>...</td>\n",
       "      <td>...</td>\n",
       "      <td>...</td>\n",
       "      <td>...</td>\n",
       "      <td>...</td>\n",
       "      <td>...</td>\n",
       "      <td>...</td>\n",
       "      <td>...</td>\n",
       "      <td>...</td>\n",
       "      <td>...</td>\n",
       "      <td>...</td>\n",
       "      <td>...</td>\n",
       "      <td>...</td>\n",
       "      <td>...</td>\n",
       "      <td>...</td>\n",
       "      <td>...</td>\n",
       "      <td>...</td>\n",
       "      <td>...</td>\n",
       "      <td>...</td>\n",
       "    </tr>\n",
       "    <tr>\n",
       "      <th>53325</th>\n",
       "      <td>2020-07-18</td>\n",
       "      <td>World Bank calls on creditors to cut poorest n...</td>\n",
       "      <td>303.2904</td>\n",
       "      <td>303.2904</td>\n",
       "      <td>305.7415</td>\n",
       "      <td>306.3919</td>\n",
       "      <td>308.1360</td>\n",
       "      <td>304.4593</td>\n",
       "      <td>302.4986</td>\n",
       "      <td>302.4986</td>\n",
       "      <td>...</td>\n",
       "      <td>0.3854</td>\n",
       "      <td>-0.2611</td>\n",
       "      <td>-0.2611</td>\n",
       "      <td>1</td>\n",
       "      <td>2</td>\n",
       "      <td>2</td>\n",
       "      <td>2</td>\n",
       "      <td>1</td>\n",
       "      <td>1</td>\n",
       "      <td>1</td>\n",
       "    </tr>\n",
       "    <tr>\n",
       "      <th>53326</th>\n",
       "      <td>2020-07-18</td>\n",
       "      <td>British Airways retires Boeing 747 fleet as Co...</td>\n",
       "      <td>303.2904</td>\n",
       "      <td>303.2904</td>\n",
       "      <td>305.7415</td>\n",
       "      <td>306.3919</td>\n",
       "      <td>308.1360</td>\n",
       "      <td>304.4593</td>\n",
       "      <td>302.4986</td>\n",
       "      <td>302.4986</td>\n",
       "      <td>...</td>\n",
       "      <td>0.3854</td>\n",
       "      <td>-0.2611</td>\n",
       "      <td>-0.2611</td>\n",
       "      <td>1</td>\n",
       "      <td>2</td>\n",
       "      <td>2</td>\n",
       "      <td>2</td>\n",
       "      <td>1</td>\n",
       "      <td>1</td>\n",
       "      <td>1</td>\n",
       "    </tr>\n",
       "    <tr>\n",
       "      <th>53327</th>\n",
       "      <td>2020-07-18</td>\n",
       "      <td>What will changes to England's lockdown rules ...</td>\n",
       "      <td>303.2904</td>\n",
       "      <td>303.2904</td>\n",
       "      <td>305.7415</td>\n",
       "      <td>306.3919</td>\n",
       "      <td>308.1360</td>\n",
       "      <td>304.4593</td>\n",
       "      <td>302.4986</td>\n",
       "      <td>302.4986</td>\n",
       "      <td>...</td>\n",
       "      <td>0.3854</td>\n",
       "      <td>-0.2611</td>\n",
       "      <td>-0.2611</td>\n",
       "      <td>1</td>\n",
       "      <td>2</td>\n",
       "      <td>2</td>\n",
       "      <td>2</td>\n",
       "      <td>1</td>\n",
       "      <td>1</td>\n",
       "      <td>1</td>\n",
       "    </tr>\n",
       "    <tr>\n",
       "      <th>53328</th>\n",
       "      <td>2020-07-18</td>\n",
       "      <td>Atol protection to be extended to vouchers on ...</td>\n",
       "      <td>303.2904</td>\n",
       "      <td>303.2904</td>\n",
       "      <td>305.7415</td>\n",
       "      <td>306.3919</td>\n",
       "      <td>308.1360</td>\n",
       "      <td>304.4593</td>\n",
       "      <td>302.4986</td>\n",
       "      <td>302.4986</td>\n",
       "      <td>...</td>\n",
       "      <td>0.3854</td>\n",
       "      <td>-0.2611</td>\n",
       "      <td>-0.2611</td>\n",
       "      <td>1</td>\n",
       "      <td>2</td>\n",
       "      <td>2</td>\n",
       "      <td>2</td>\n",
       "      <td>1</td>\n",
       "      <td>1</td>\n",
       "      <td>1</td>\n",
       "    </tr>\n",
       "    <tr>\n",
       "      <th>53329</th>\n",
       "      <td>2020-07-18</td>\n",
       "      <td>Disney cuts ad spending on Facebook amid growi...</td>\n",
       "      <td>303.2904</td>\n",
       "      <td>303.2904</td>\n",
       "      <td>305.7415</td>\n",
       "      <td>306.3919</td>\n",
       "      <td>308.1360</td>\n",
       "      <td>304.4593</td>\n",
       "      <td>302.4986</td>\n",
       "      <td>302.4986</td>\n",
       "      <td>...</td>\n",
       "      <td>0.3854</td>\n",
       "      <td>-0.2611</td>\n",
       "      <td>-0.2611</td>\n",
       "      <td>1</td>\n",
       "      <td>2</td>\n",
       "      <td>2</td>\n",
       "      <td>2</td>\n",
       "      <td>1</td>\n",
       "      <td>1</td>\n",
       "      <td>1</td>\n",
       "    </tr>\n",
       "  </tbody>\n",
       "</table>\n",
       "<p>53330 rows × 24 columns</p>\n",
       "</div>"
      ],
      "text/plain": [
       "             Date                                          Headlines  \\\n",
       "0      2017-12-17  The Guardian view on Ryanair’s model : a union...   \n",
       "1      2017-12-17  Butchers carve out a niche as UK shoppers opt ...   \n",
       "2      2017-12-17  Grogonomics This year has been about companies...   \n",
       "3      2017-12-17  Youngest staff to be given UK workplace pensio...   \n",
       "4      2017-12-17  Peter Preston on press and broadcasting Paul D...   \n",
       "...           ...                                                ...   \n",
       "53325  2020-07-18  World Bank calls on creditors to cut poorest n...   \n",
       "53326  2020-07-18  British Airways retires Boeing 747 fleet as Co...   \n",
       "53327  2020-07-18  What will changes to England's lockdown rules ...   \n",
       "53328  2020-07-18  Atol protection to be extended to vouchers on ...   \n",
       "53329  2020-07-18  Disney cuts ad spending on Facebook amid growi...   \n",
       "\n",
       "          Close   Close+1   Close+2   Close+3   Close+4   Close+5   Close+6  \\\n",
       "0      239.5091  241.0279  240.1023  239.9764  240.4707  240.4078  240.4078   \n",
       "1      239.5091  241.0279  240.1023  239.9764  240.4707  240.4078  240.4078   \n",
       "2      239.5091  241.0279  240.1023  239.9764  240.4707  240.4078  240.4078   \n",
       "3      239.5091  241.0279  240.1023  239.9764  240.4707  240.4078  240.4078   \n",
       "4      239.5091  241.0279  240.1023  239.9764  240.4707  240.4078  240.4078   \n",
       "...         ...       ...       ...       ...       ...       ...       ...   \n",
       "53325  303.2904  303.2904  305.7415  306.3919  308.1360  304.4593  302.4986   \n",
       "53326  303.2904  303.2904  305.7415  306.3919  308.1360  304.4593  302.4986   \n",
       "53327  303.2904  303.2904  305.7415  306.3919  308.1360  304.4593  302.4986   \n",
       "53328  303.2904  303.2904  305.7415  306.3919  308.1360  304.4593  302.4986   \n",
       "53329  303.2904  303.2904  305.7415  306.3919  308.1360  304.4593  302.4986   \n",
       "\n",
       "        Close+7  ...  PercentageD+5  PercentageD+6  PercentageD+7  TrendD+1  \\\n",
       "0      240.4078  ...         0.3752         0.3752         0.3752         2   \n",
       "1      240.4078  ...         0.3752         0.3752         0.3752         2   \n",
       "2      240.4078  ...         0.3752         0.3752         0.3752         2   \n",
       "3      240.4078  ...         0.3752         0.3752         0.3752         2   \n",
       "4      240.4078  ...         0.3752         0.3752         0.3752         2   \n",
       "...         ...  ...            ...            ...            ...       ...   \n",
       "53325  302.4986  ...         0.3854        -0.2611        -0.2611         1   \n",
       "53326  302.4986  ...         0.3854        -0.2611        -0.2611         1   \n",
       "53327  302.4986  ...         0.3854        -0.2611        -0.2611         1   \n",
       "53328  302.4986  ...         0.3854        -0.2611        -0.2611         1   \n",
       "53329  302.4986  ...         0.3854        -0.2611        -0.2611         1   \n",
       "\n",
       "       TrendD+2  TrendD+3  TrendD+4  TrendD+5  TrendD+6  TrendD+7  \n",
       "0             1         1         1         1         1         1  \n",
       "1             1         1         1         1         1         1  \n",
       "2             1         1         1         1         1         1  \n",
       "3             1         1         1         1         1         1  \n",
       "4             1         1         1         1         1         1  \n",
       "...         ...       ...       ...       ...       ...       ...  \n",
       "53325         2         2         2         1         1         1  \n",
       "53326         2         2         2         1         1         1  \n",
       "53327         2         2         2         1         1         1  \n",
       "53328         2         2         2         1         1         1  \n",
       "53329         2         2         2         1         1         1  \n",
       "\n",
       "[53330 rows x 24 columns]"
      ]
     },
     "execution_count": 3,
     "metadata": {},
     "output_type": "execute_result"
    }
   ],
   "source": [
    "data"
   ]
  },
  {
   "cell_type": "markdown",
   "id": "e9c8dfe8-cb16-4376-ae69-2e93b434d023",
   "metadata": {},
   "source": [
    "### Headline length vs. token window of the model \n",
    "\n",
    "**mrm8488/distilroberta-finetuned-financial-news-sentiment-analysis** --> 512 tokens; approx. 1 token per word"
   ]
  },
  {
   "cell_type": "code",
   "execution_count": 4,
   "id": "10f7d2d0-faa1-475d-8cf9-354659aac6df",
   "metadata": {},
   "outputs": [],
   "source": [
    "data[\"Word_Count\"] = data[\"Headlines\"].apply(lambda x: len(x.split()))"
   ]
  },
  {
   "cell_type": "code",
   "execution_count": 5,
   "id": "3a9c40a9-ce0f-413b-898b-72be67bc2a4c",
   "metadata": {},
   "outputs": [
    {
     "data": {
      "text/plain": [
       "count    53330.000000\n",
       "mean        11.770429\n",
       "std          2.820468\n",
       "min          2.000000\n",
       "25%         10.000000\n",
       "50%         11.000000\n",
       "75%         13.000000\n",
       "max         31.000000\n",
       "Name: Word_Count, dtype: float64"
      ]
     },
     "execution_count": 5,
     "metadata": {},
     "output_type": "execute_result"
    }
   ],
   "source": [
    "data[\"Word_Count\"].describe()"
   ]
  },
  {
   "cell_type": "code",
   "execution_count": 6,
   "id": "3ec0e020-bbcb-4066-804f-88d10607c881",
   "metadata": {},
   "outputs": [
    {
     "data": {
      "text/plain": [
       "42.666666666666664"
      ]
     },
     "execution_count": 6,
     "metadata": {},
     "output_type": "execute_result"
    }
   ],
   "source": [
    "512/12"
   ]
  },
  {
   "cell_type": "markdown",
   "id": "20b704b6-fd2a-45b8-b1e9-6794dd562760",
   "metadata": {},
   "source": [
    "--> Token window will fit approx. 43 headlines"
   ]
  },
  {
   "cell_type": "markdown",
   "id": "38c839c0-a897-4de6-9937-89443f0d536e",
   "metadata": {},
   "source": [
    "### Headlines per date?"
   ]
  },
  {
   "cell_type": "code",
   "execution_count": 7,
   "id": "5c542dad-920b-4c96-8eef-450996fe3eee",
   "metadata": {},
   "outputs": [],
   "source": [
    "date_counts = data.groupby('Date').size().reset_index(name='count')"
   ]
  },
  {
   "cell_type": "code",
   "execution_count": 45,
   "id": "cc748a99-0abf-45d6-bbe6-47ee91b6e011",
   "metadata": {},
   "outputs": [
    {
     "data": {
      "text/html": [
       "<div>\n",
       "<style scoped>\n",
       "    .dataframe tbody tr th:only-of-type {\n",
       "        vertical-align: middle;\n",
       "    }\n",
       "\n",
       "    .dataframe tbody tr th {\n",
       "        vertical-align: top;\n",
       "    }\n",
       "\n",
       "    .dataframe thead th {\n",
       "        text-align: right;\n",
       "    }\n",
       "</style>\n",
       "<table border=\"1\" class=\"dataframe\">\n",
       "  <thead>\n",
       "    <tr style=\"text-align: right;\">\n",
       "      <th></th>\n",
       "      <th>count</th>\n",
       "    </tr>\n",
       "  </thead>\n",
       "  <tbody>\n",
       "    <tr>\n",
       "      <th>count</th>\n",
       "      <td>931.000000</td>\n",
       "    </tr>\n",
       "    <tr>\n",
       "      <th>mean</th>\n",
       "      <td>57.282492</td>\n",
       "    </tr>\n",
       "    <tr>\n",
       "      <th>std</th>\n",
       "      <td>31.718634</td>\n",
       "    </tr>\n",
       "    <tr>\n",
       "      <th>min</th>\n",
       "      <td>1.000000</td>\n",
       "    </tr>\n",
       "    <tr>\n",
       "      <th>25%</th>\n",
       "      <td>27.000000</td>\n",
       "    </tr>\n",
       "    <tr>\n",
       "      <th>50%</th>\n",
       "      <td>63.000000</td>\n",
       "    </tr>\n",
       "    <tr>\n",
       "      <th>75%</th>\n",
       "      <td>80.500000</td>\n",
       "    </tr>\n",
       "    <tr>\n",
       "      <th>max</th>\n",
       "      <td>170.000000</td>\n",
       "    </tr>\n",
       "  </tbody>\n",
       "</table>\n",
       "</div>"
      ],
      "text/plain": [
       "            count\n",
       "count  931.000000\n",
       "mean    57.282492\n",
       "std     31.718634\n",
       "min      1.000000\n",
       "25%     27.000000\n",
       "50%     63.000000\n",
       "75%     80.500000\n",
       "max    170.000000"
      ]
     },
     "execution_count": 45,
     "metadata": {},
     "output_type": "execute_result"
    }
   ],
   "source": [
    "date_counts.describe()"
   ]
  },
  {
   "cell_type": "code",
   "execution_count": 9,
   "id": "d0cf046d-77ea-4bb9-83e0-7da98e3ef18d",
   "metadata": {},
   "outputs": [
    {
     "data": {
      "text/plain": [
       "0.031149301825993556"
      ]
     },
     "execution_count": 9,
     "metadata": {},
     "output_type": "execute_result"
    }
   ],
   "source": [
    "len(date_counts[date_counts[\"count\"] <5])/len(date_counts)"
   ]
  },
  {
   "cell_type": "markdown",
   "id": "cd66d6c2-3ae5-47d0-b8cd-c5fdc31612dc",
   "metadata": {},
   "source": [
    "For 3% of the dates in the dataset, we have less than 5 headlines available."
   ]
  },
  {
   "cell_type": "markdown",
   "id": "ff9370d7-3915-4260-8b8f-1fb531160198",
   "metadata": {},
   "source": [
    "### Sentiment analysis with the existing model\n",
    "\n",
    "using a random sample of  5000 entries from the dataset"
   ]
  },
  {
   "cell_type": "code",
   "execution_count": 10,
   "id": "0a3ab06f-655c-400d-a01b-ebe40d017c40",
   "metadata": {},
   "outputs": [],
   "source": [
    "from transformers import AutoTokenizer, AutoModelForSequenceClassification\n",
    "from transformers import pipeline"
   ]
  },
  {
   "cell_type": "code",
   "execution_count": 11,
   "id": "691c6e95-6d78-45ea-8b23-5a8116ef1425",
   "metadata": {},
   "outputs": [
    {
     "name": "stderr",
     "output_type": "stream",
     "text": [
      "/Users/jeroen/anaconda/lib/python3.12/site-packages/transformers/tokenization_utils_base.py:1601: FutureWarning: `clean_up_tokenization_spaces` was not set. It will be set to `True` by default. This behavior will be depracted in transformers v4.45, and will be then set to `False` by default. For more details check this issue: https://github.com/huggingface/transformers/issues/31884\n",
      "  warnings.warn(\n"
     ]
    }
   ],
   "source": [
    "tokenizer = AutoTokenizer.from_pretrained(\"mrm8488/distilroberta-finetuned-financial-news-sentiment-analysis\")\n",
    "model = AutoModelForSequenceClassification.from_pretrained(\"mrm8488/distilroberta-finetuned-financial-news-sentiment-analysis\")"
   ]
  },
  {
   "cell_type": "code",
   "execution_count": 12,
   "id": "a6f3d1ea-c2a4-4d7b-84a6-55a2f5850156",
   "metadata": {},
   "outputs": [],
   "source": [
    "sentiment_analysis = pipeline(\"sentiment-analysis\", model=model, tokenizer=tokenizer, device=0)"
   ]
  },
  {
   "cell_type": "code",
   "execution_count": 13,
   "id": "4a7026cb-07dc-4112-b8a5-dc8fcee32f66",
   "metadata": {},
   "outputs": [
    {
     "data": {
      "text/plain": [
       "512"
      ]
     },
     "execution_count": 13,
     "metadata": {},
     "output_type": "execute_result"
    }
   ],
   "source": [
    "max_length = tokenizer.model_max_length\n",
    "max_length"
   ]
  },
  {
   "cell_type": "code",
   "execution_count": 14,
   "id": "094da0b2-6173-4e2f-b482-0abd111e6437",
   "metadata": {},
   "outputs": [],
   "source": [
    "test_data = data.sample(5000, random_state=42)"
   ]
  },
  {
   "cell_type": "code",
   "execution_count": 15,
   "id": "4852feba-2f36-4420-849d-4dda4333a096",
   "metadata": {},
   "outputs": [],
   "source": [
    "test_data[\"Sentiment\"] = test_data[\"Headlines\"].apply(lambda x: sentiment_analysis(x[:max_length])[0][\"label\"])\n",
    "test_data[\"Score\"] = test_data[\"Headlines\"].apply(lambda x: sentiment_analysis(x[:max_length])[0][\"score\"])"
   ]
  },
  {
   "cell_type": "code",
   "execution_count": 17,
   "id": "71452d2b-49b6-4dcd-b292-f731d672d322",
   "metadata": {},
   "outputs": [],
   "source": [
    "sentiment_mapping = {\n",
    "    \"negative\": 0,\n",
    "    \"neutral\": 1,\n",
    "    \"positive\": 2\n",
    "}"
   ]
  },
  {
   "cell_type": "code",
   "execution_count": 18,
   "id": "e78d352c-0ff7-463c-b2dc-bf679d951fff",
   "metadata": {},
   "outputs": [],
   "source": [
    "test_data[\"Sentiment_Value\"] = test_data[\"Sentiment\"].map(sentiment_mapping)"
   ]
  },
  {
   "cell_type": "markdown",
   "id": "95a91715-deb3-47d0-9d77-2fba8e2f2047",
   "metadata": {},
   "source": [
    "### Correlation between the sentiment value and the trend of the S&P500 after x days?"
   ]
  },
  {
   "cell_type": "code",
   "execution_count": 19,
   "id": "40f7ae90-3272-45bf-9e1b-58527d5fa251",
   "metadata": {},
   "outputs": [
    {
     "name": "stdout",
     "output_type": "stream",
     "text": [
      "Accuracy D+1: 0.41\n",
      "Accuracy D+2: 0.38\n",
      "Accuracy D+3: 0.34\n",
      "Accuracy D+4: 0.32\n",
      "Accuracy D+5: 0.30\n",
      "Accuracy D+6: 0.29\n",
      "Accuracy D+7: 0.29\n"
     ]
    }
   ],
   "source": [
    "from sklearn.metrics import accuracy_score\n",
    "\n",
    "for i in range(1,8):\n",
    "    accuracy = accuracy_score(test_data[f\"TrendD+{i}\"], test_data[\"Sentiment_Value\"])\n",
    "    print(f\"Accuracy D+{i}: {accuracy:.2f}\")"
   ]
  },
  {
   "cell_type": "markdown",
   "id": "fd55eb87-bac5-4d56-8ec2-fab1fc69c50f",
   "metadata": {},
   "source": [
    "--> Beyond 1 day, sentiment analysis as a predictor of the S&P500 trend performs similar or worse than random guess"
   ]
  },
  {
   "cell_type": "markdown",
   "id": "3a111390-5af5-4fd2-b1ab-353dfb864dbd",
   "metadata": {},
   "source": [
    "### Aggregating headlines by date\n",
    "\n",
    "Rationale:\n",
    "- Intuition says that single headlines should be a poor predictor of the S&P trend\n",
    "- On most days, one would expect both positive and negative headlines\n",
    "- Aggregating many headlines from the same day should give a better indication of investors' sentiment\n",
    "- Practical reason: reducing the size of the dataset (from 50k+ to less than 1k entries) will make it easier to train model (avoid resource limits both local and on Google Colab)"
   ]
  },
  {
   "cell_type": "code",
   "execution_count": 20,
   "id": "5e73a5c9-1897-4ff5-9b1d-e4d43b020bad",
   "metadata": {},
   "outputs": [],
   "source": [
    "aggregated_data = data.groupby(\"Date\").agg({\n",
    "    \"Headlines\": lambda x: \" \".join(x),  \n",
    "    \"TrendD+1\": \"first\",\n",
    "    \"TrendD+2\": \"first\",\n",
    "    \"TrendD+3\": \"first\",\n",
    "    \"TrendD+4\": \"first\",\n",
    "    \"TrendD+5\": \"first\",\n",
    "    \"TrendD+6\": \"first\",\n",
    "    \"TrendD+7\": \"first\"\n",
    "}).reset_index(drop=True)\n"
   ]
  },
  {
   "cell_type": "code",
   "execution_count": 21,
   "id": "be28191b-ea01-49fa-9ad2-9729958a2b23",
   "metadata": {},
   "outputs": [
    {
     "data": {
      "text/html": [
       "<div>\n",
       "<style scoped>\n",
       "    .dataframe tbody tr th:only-of-type {\n",
       "        vertical-align: middle;\n",
       "    }\n",
       "\n",
       "    .dataframe tbody tr th {\n",
       "        vertical-align: top;\n",
       "    }\n",
       "\n",
       "    .dataframe thead th {\n",
       "        text-align: right;\n",
       "    }\n",
       "</style>\n",
       "<table border=\"1\" class=\"dataframe\">\n",
       "  <thead>\n",
       "    <tr style=\"text-align: right;\">\n",
       "      <th></th>\n",
       "      <th>Headlines</th>\n",
       "      <th>TrendD+1</th>\n",
       "      <th>TrendD+2</th>\n",
       "      <th>TrendD+3</th>\n",
       "      <th>TrendD+4</th>\n",
       "      <th>TrendD+5</th>\n",
       "      <th>TrendD+6</th>\n",
       "      <th>TrendD+7</th>\n",
       "    </tr>\n",
       "  </thead>\n",
       "  <tbody>\n",
       "    <tr>\n",
       "      <th>0</th>\n",
       "      <td>The Guardian view on Ryanair’s model : a union...</td>\n",
       "      <td>2</td>\n",
       "      <td>1</td>\n",
       "      <td>1</td>\n",
       "      <td>1</td>\n",
       "      <td>1</td>\n",
       "      <td>1</td>\n",
       "      <td>1</td>\n",
       "    </tr>\n",
       "    <tr>\n",
       "      <th>1</th>\n",
       "      <td>Universal basic income is no panacea for us – ...</td>\n",
       "      <td>1</td>\n",
       "      <td>1</td>\n",
       "      <td>1</td>\n",
       "      <td>1</td>\n",
       "      <td>1</td>\n",
       "      <td>1</td>\n",
       "      <td>1</td>\n",
       "    </tr>\n",
       "    <tr>\n",
       "      <th>2</th>\n",
       "      <td>Business live World markets driven to record h...</td>\n",
       "      <td>1</td>\n",
       "      <td>1</td>\n",
       "      <td>1</td>\n",
       "      <td>1</td>\n",
       "      <td>1</td>\n",
       "      <td>1</td>\n",
       "      <td>1</td>\n",
       "    </tr>\n",
       "    <tr>\n",
       "      <th>3</th>\n",
       "      <td>Parts of UK that voted Brexit are most exposed...</td>\n",
       "      <td>1</td>\n",
       "      <td>1</td>\n",
       "      <td>1</td>\n",
       "      <td>1</td>\n",
       "      <td>1</td>\n",
       "      <td>1</td>\n",
       "      <td>1</td>\n",
       "    </tr>\n",
       "    <tr>\n",
       "      <th>4</th>\n",
       "      <td>Fall in demand shrinks UK car making by 4 . 6%...</td>\n",
       "      <td>1</td>\n",
       "      <td>1</td>\n",
       "      <td>1</td>\n",
       "      <td>1</td>\n",
       "      <td>1</td>\n",
       "      <td>1</td>\n",
       "      <td>1</td>\n",
       "    </tr>\n",
       "    <tr>\n",
       "      <th>...</th>\n",
       "      <td>...</td>\n",
       "      <td>...</td>\n",
       "      <td>...</td>\n",
       "      <td>...</td>\n",
       "      <td>...</td>\n",
       "      <td>...</td>\n",
       "      <td>...</td>\n",
       "      <td>...</td>\n",
       "    </tr>\n",
       "    <tr>\n",
       "      <th>926</th>\n",
       "      <td>VW to shift centre of software development to ...</td>\n",
       "      <td>2</td>\n",
       "      <td>2</td>\n",
       "      <td>2</td>\n",
       "      <td>2</td>\n",
       "      <td>2</td>\n",
       "      <td>2</td>\n",
       "      <td>2</td>\n",
       "    </tr>\n",
       "    <tr>\n",
       "      <th>927</th>\n",
       "      <td>Delta takes USD 3 billion charge on buyouts , ...</td>\n",
       "      <td>1</td>\n",
       "      <td>1</td>\n",
       "      <td>1</td>\n",
       "      <td>1</td>\n",
       "      <td>2</td>\n",
       "      <td>2</td>\n",
       "      <td>2</td>\n",
       "    </tr>\n",
       "    <tr>\n",
       "      <th>928</th>\n",
       "      <td>Negative U . S . rate bets persist , but seen ...</td>\n",
       "      <td>1</td>\n",
       "      <td>1</td>\n",
       "      <td>1</td>\n",
       "      <td>2</td>\n",
       "      <td>2</td>\n",
       "      <td>2</td>\n",
       "      <td>2</td>\n",
       "    </tr>\n",
       "    <tr>\n",
       "      <th>929</th>\n",
       "      <td>IQ Capital CEO Keith Bliss says tech and healt...</td>\n",
       "      <td>1</td>\n",
       "      <td>1</td>\n",
       "      <td>2</td>\n",
       "      <td>2</td>\n",
       "      <td>2</td>\n",
       "      <td>1</td>\n",
       "      <td>1</td>\n",
       "    </tr>\n",
       "    <tr>\n",
       "      <th>930</th>\n",
       "      <td>Twitter says attackers downloaded data from up...</td>\n",
       "      <td>1</td>\n",
       "      <td>2</td>\n",
       "      <td>2</td>\n",
       "      <td>2</td>\n",
       "      <td>1</td>\n",
       "      <td>1</td>\n",
       "      <td>1</td>\n",
       "    </tr>\n",
       "  </tbody>\n",
       "</table>\n",
       "<p>931 rows × 8 columns</p>\n",
       "</div>"
      ],
      "text/plain": [
       "                                             Headlines  TrendD+1  TrendD+2  \\\n",
       "0    The Guardian view on Ryanair’s model : a union...         2         1   \n",
       "1    Universal basic income is no panacea for us – ...         1         1   \n",
       "2    Business live World markets driven to record h...         1         1   \n",
       "3    Parts of UK that voted Brexit are most exposed...         1         1   \n",
       "4    Fall in demand shrinks UK car making by 4 . 6%...         1         1   \n",
       "..                                                 ...       ...       ...   \n",
       "926  VW to shift centre of software development to ...         2         2   \n",
       "927  Delta takes USD 3 billion charge on buyouts , ...         1         1   \n",
       "928  Negative U . S . rate bets persist , but seen ...         1         1   \n",
       "929  IQ Capital CEO Keith Bliss says tech and healt...         1         1   \n",
       "930  Twitter says attackers downloaded data from up...         1         2   \n",
       "\n",
       "     TrendD+3  TrendD+4  TrendD+5  TrendD+6  TrendD+7  \n",
       "0           1         1         1         1         1  \n",
       "1           1         1         1         1         1  \n",
       "2           1         1         1         1         1  \n",
       "3           1         1         1         1         1  \n",
       "4           1         1         1         1         1  \n",
       "..        ...       ...       ...       ...       ...  \n",
       "926         2         2         2         2         2  \n",
       "927         1         1         2         2         2  \n",
       "928         1         2         2         2         2  \n",
       "929         2         2         2         1         1  \n",
       "930         2         2         1         1         1  \n",
       "\n",
       "[931 rows x 8 columns]"
      ]
     },
     "execution_count": 21,
     "metadata": {},
     "output_type": "execute_result"
    }
   ],
   "source": [
    "aggregated_data"
   ]
  },
  {
   "cell_type": "code",
   "execution_count": 22,
   "id": "41fc54b5-3a13-472b-b08d-cf6c4aca1fe1",
   "metadata": {},
   "outputs": [
    {
     "data": {
      "text/plain": [
       "array([\"Business live Markets nervous amid new US-China tariffs and Trump's troubles - as it happened Bounced cheques , cancelled flights – why do we still fly Ryanair ? Ryanair deal with Irish pilots union looks to end strikes Competition watchdog to scrutinise merger of Sainsbury's and Asda Ban diesel cars from cities , say half of UK drivers in poll Goldman Sachs to tempt Britain's savers with Marcus account No-deal Brexit : Britons in EU could lose access to UK bank accounts Fighting to survive : Noble Group's fate hangs on investors restructuring vote Waymo sets up subsidiary in Shanghai as Google plans China push Tipping point ? Inflation creep at Australia's mines to erode margins Trade tensions may power down China's robot industry U . S . -China trade talks end with no breakthrough as tariffs kick in China's Huawei slams Australia 5G mobile network ban as 'politically motivated' Four Toyota group firms to form JV for self-driving tech : Nikkei SEC to review decision rejecting bitcoin ETFs UniCredit , SocGen decline to comment on tie-up report Exclusive : China to keep hitting back at U . S . over trade , to boost government spending - finance minister Siemens denies report it may cut 20 , 000 jobs 'Old' bull market sputters on while tech inflows slow : BAML Saudi modernisation drive is reflected in Aramco's faltering sale Traders keep bets on Fed interest rate rises as Powell speaks Nike stores in South Africa reopen following backlash over racist video Exclusive : U . S . Commerce's Ross picks ZTE monitor after rejecting 'Never Trump' lawyer Cigna , Express Scripts shareholders approve USD 52 billion deal Gap shares tumble as flagship brand shows no sign of recovery As big firms get bigger , rate cuts may pack less punch : study UK auditors , watchdog to discuss curbs on Big Four market share Nearly half of tenants who make complaint face 'revenge eviction' Volkswagen and Seat accused of selling cars with rear seatbelt fault 'Pay a living wage' : Bernie Sanders accuses Disney of dodging fair pay Look , no beard : Goldman Sachs' Marcus subverts the fintech story BLT will survive no-deal Brexit – but it is likely to cost you more Yorkshire chippy's Mandarin menu proves popular with Chinese tourists Shelved Aramco IPO hits at heart of Saudi prince's reforms Are teachers’ pitiful salaries driving many to moonlight as Airbnb hosts ? UK says Brexit could hit banks' stock of 'risk free' EU debt Pentagon cafeteria company subject of Department of Labor complaint Fed's Bullard warns of recession risk in raising rates U . S . calls foreign mail system unfair in surprise win for Amazon Comcast to continue offering Fox's Big Ten Network Britain can’t wait any longer for a post-Brexit immigration policy Canada to rejoin NAFTA talks once U . S . , Mexico resolve bilateral issues : Freeland Fed's Powell defends policy of gradual interest rate hikes S&P 500 reaches new high to clinch record bull run Fed's Powell : more rate hikes likely if economy stays strong S&P 500 ends at record high , bull market label secure Global stocks rally after speech by Fed's Powell , oil prices surge Enbridge to buy Spectra Energy for USD 3 . 3 billion Papa John’s taps investment banks amid pressure from founder : sources Wells Fargo lays off more than 600 mortgage workers US and China escalate trade war as total sum levied reaches USD 100bn Oil giant Aramco's USD 2tn flotation is still on , says Saudi Arabia How Turkey’s lira crisis was written in Istanbul's skyline Alibaba's revenue jumps but investments to prolong margin squeeze Exclusive : China's Unipec to resume U . S . oil purchases after tariff policy change - sources ThirdLove CEO explains how the start-up is thriving as Victoria's Secret struggles It will take Intel years to fix its chipmaking process and AMD will benefit , analyst says Cramer’s game plan : The end of earnings season can still deliver upside surprises Stocks hit all-time highs — these experts break down what investors should do next Volkswagen CEO received memorandum about emissions cheating fallout : NDR\"],\n",
       "      dtype=object)"
      ]
     },
     "execution_count": 22,
     "metadata": {},
     "output_type": "execute_result"
    }
   ],
   "source": [
    "aggregated_data[\"Headlines\"].sample().values"
   ]
  },
  {
   "cell_type": "code",
   "execution_count": 23,
   "id": "fbfadc93-9d59-4545-8da6-54fb41e9277b",
   "metadata": {},
   "outputs": [],
   "source": [
    "aggregated_data[\"Word_Count\"] = aggregated_data[\"Headlines\"].apply(lambda x: len(x.split()))"
   ]
  },
  {
   "cell_type": "code",
   "execution_count": 24,
   "id": "06192b80-bf61-428e-809a-04951ab6d7da",
   "metadata": {},
   "outputs": [
    {
     "data": {
      "text/plain": [
       "count     931.000000\n",
       "mean      674.239527\n",
       "std       373.397260\n",
       "min         4.000000\n",
       "25%       327.000000\n",
       "50%       743.000000\n",
       "75%       956.000000\n",
       "max      1976.000000\n",
       "Name: Word_Count, dtype: float64"
      ]
     },
     "execution_count": 24,
     "metadata": {},
     "output_type": "execute_result"
    }
   ],
   "source": [
    "aggregated_data[\"Word_Count\"].describe()"
   ]
  },
  {
   "cell_type": "markdown",
   "id": "2b77a37c-b7b0-4664-a867-63b8aebfa4f1",
   "metadata": {},
   "source": [
    "--> Simply concatenating headlines results in strings that are too large for the token window for more than 50% of the dates"
   ]
  },
  {
   "cell_type": "markdown",
   "id": "1630bfa2-2379-4f88-9699-95cbf2d071e3",
   "metadata": {},
   "source": [
    "### Cleaning the concatenated Headlines data\n",
    "\n",
    "- remove non-alphabetic characters and convert to lowercase\n",
    "- remove stopwords\n",
    "- remove duplicate words"
   ]
  },
  {
   "cell_type": "code",
   "execution_count": 25,
   "id": "91153129-6b1f-433e-bccc-b0761d26eea8",
   "metadata": {},
   "outputs": [
    {
     "name": "stderr",
     "output_type": "stream",
     "text": [
      "[nltk_data] Downloading package stopwords to\n",
      "[nltk_data]     /Users/jeroen/nltk_data...\n",
      "[nltk_data]   Package stopwords is already up-to-date!\n"
     ]
    }
   ],
   "source": [
    "import re\n",
    "import nltk\n",
    "from nltk.corpus import stopwords\n",
    "\n",
    "nltk.download('stopwords')\n",
    "\n",
    "def process_text(text): \n",
    "    text = re.sub('[^a-zA-Z]', ' ', text).lower()\n",
    "    words = text.split()\n",
    "    \n",
    "    all_stopwords = set(stopwords.words('english'))\n",
    "    all_stopwords.discard('not')\n",
    "    \n",
    "    filtered_words = [word for word in words if word not in all_stopwords]\n",
    "\n",
    "    seen = set()\n",
    "    unique_words = [word for word in filtered_words if not (word in seen or seen.add(word))]\n",
    "\n",
    "    return ' '.join(unique_words)"
   ]
  },
  {
   "cell_type": "code",
   "execution_count": 26,
   "id": "20396c58-95cc-4fc5-86dd-75fe542276cc",
   "metadata": {},
   "outputs": [],
   "source": [
    "aggregated_data[\"Headlines_Condensed\"] = aggregated_data[\"Headlines\"].apply(lambda x: process_text(x))"
   ]
  },
  {
   "cell_type": "code",
   "execution_count": 27,
   "id": "3aa018f5-66aa-4fa3-b88e-fe43c5c2f188",
   "metadata": {},
   "outputs": [],
   "source": [
    "aggregated_data[\"Word_Count_Condensed\"] = aggregated_data[\"Headlines_Condensed\"].apply(lambda x: len(x.split()))"
   ]
  },
  {
   "cell_type": "code",
   "execution_count": 28,
   "id": "73104547-8423-44ab-8548-91c1f43d3ae4",
   "metadata": {},
   "outputs": [
    {
     "data": {
      "text/plain": [
       "array(['kremlin stays silent russia oil cut plans ahead opec meeting xerox hp blame takeover battle heats resiliency test well chinese firms cope financially virus hit amazon confirms first coronavirus case among u employees exclusive softbank backed cloudminds blocked exporting tech china hk bank east asia review assets elliott management supreme court leans toward sec power recover ill gotten gains ceo hosts pre ipo summit new york courts investors fed cuts rates blunt impact markets drop evans expects impacts economy short lived another foul day wall street surprise rate business live slides federal reserve makes emergency us happened prepares gets closer home impossible foods prices plant based meat sold distributors hewlett packard enterprise cash flow outlook shares chevron says hearing optimistic talk around production nbcuniversal sells record usd billion tokyo olympic ads berkshire hathaway hold may annual despite curb events mester sees possible economic outbreak jpmorgan working sources stocks slide year treasury low latest news drive next decision nordstrom sales miss earnings estimates struggles halt tide profiteers nils pratley finance interest leaves guessing banks issue loans uk crisis cramer lightning round like amarin stock sign panic jim charts show p bounce ephemeral apple poised rally turns bullish gold dividend medical device think tank report uighur labor lists global brands barclays investor pressure fossil fuel stance recession expert modelling shows australian could take huge overhyped overvalued startups soon reckoning come project syndicate economists supply side flavour greggs profits still roll boom vegan snacks jack welch obituary tory mp asks bt using huawei complies anti slavery policy lost decade hidden story austerity broke britain brexit peugeot seek compensation keep factory open energy watchdog boss vows get tough rip tariffs postpone james bond film say fans wary let enjoy good climate block onshore wind farms self isolation luxury gig workers afford life expectancy england rebounds years stagnation british steel jingye promises chapter industry wework offloads office platform managed q eden sues mallinckrodt accuses drugmaker defrauding medicaid ackman hedges protect negative ecb lending scheme companies mnuchin supports move non political trump calls dent foxconn consumer electronics revenue quarter early dollar sell reuters poll not considering suspending response futures traders greet bets airbus boeing executives gauge aircraft demand tells careful war chest pledging returns ryanair iag bosses see travel returning summer maker dependent talks airlines face worsening european warn bmw daimler aim emissions electric models algeria minister countries discuss substantial output need imminent action kazimir stable forecast holzmann combat kuwait outcome meetings high fives hugs kisses discouraged respond growing threat lindt sweet growth swiss lines ubs ermotti become chairman olympics wheelchair rugby event canceled toyota names chief executive shake adds warehouse network cities speed delivery explainer automakers cars europe top central appear primed act risk everything said mad money including bull mistake instant view announces counter powell poses material world financial technical aid package help emirates airline staff one month unpaid leave allies consider significant hits exxon mobil tighter methane regulations ready support governments must villeroy thermo fisher agrees buy genetic tester qiagen deal saudi sabic lifts chemicals clariant stake sticks target hudson bay co richard baker panel considered mln bpd lufthansa embraer tie nokia jobs finland ups fedex hurt operations moving big driven approach inflation lower fears hopes boe carney powerful timely fidelity profit rose strong flows index market funds cost entire platforms eliminated'],\n",
       "      dtype=object)"
      ]
     },
     "execution_count": 28,
     "metadata": {},
     "output_type": "execute_result"
    }
   ],
   "source": [
    "aggregated_data[\"Headlines_Condensed\"].sample().values"
   ]
  },
  {
   "cell_type": "code",
   "execution_count": 29,
   "id": "1a1ec7b2-0911-4f21-8e30-84a5cc86114a",
   "metadata": {},
   "outputs": [
    {
     "data": {
      "text/plain": [
       "count    931.000000\n",
       "mean     359.446831\n",
       "std      180.620984\n",
       "min        4.000000\n",
       "25%      195.000000\n",
       "50%      406.000000\n",
       "75%      497.000000\n",
       "max      867.000000\n",
       "Name: Word_Count_Condensed, dtype: float64"
      ]
     },
     "execution_count": 29,
     "metadata": {},
     "output_type": "execute_result"
    }
   ],
   "source": [
    "aggregated_data[\"Word_Count_Condensed\"].describe()"
   ]
  },
  {
   "cell_type": "markdown",
   "id": "98169894-4a8c-415a-8239-b7ad6f828590",
   "metadata": {},
   "source": [
    "--> After this cleanup, Headlines data for more than 75% of the dates will fit in the token window"
   ]
  },
  {
   "cell_type": "code",
   "execution_count": 30,
   "id": "71bfc19f-5c56-4ed8-aedb-58946778a5cb",
   "metadata": {},
   "outputs": [
    {
     "data": {
      "text/plain": [
       "0.21804511278195488"
      ]
     },
     "execution_count": 30,
     "metadata": {},
     "output_type": "execute_result"
    }
   ],
   "source": [
    "len(aggregated_data[aggregated_data[\"Word_Count_Condensed\"] > 512].Headlines.values)/len(aggregated_data[\"Word_Count_Condensed\"])"
   ]
  },
  {
   "cell_type": "markdown",
   "id": "5410075d-7294-433a-a738-db727c5ee6f9",
   "metadata": {},
   "source": [
    "### Sentiment analysis on condensed Headlines data\n",
    "\n",
    "(truncated if longer than token window)"
   ]
  },
  {
   "cell_type": "code",
   "execution_count": 31,
   "id": "de7581a2-af66-42ab-aa5a-358f234b1d40",
   "metadata": {},
   "outputs": [],
   "source": [
    "aggregated_data[\"Sentiment\"] = aggregated_data[\"Headlines_Condensed\"].apply(lambda x: sentiment_analysis(x[:max_length])[0][\"label\"])\n",
    "aggregated_data[\"Score\"] = aggregated_data[\"Headlines_Condensed\"].apply(lambda x: sentiment_analysis(x[:max_length])[0][\"score\"])"
   ]
  },
  {
   "cell_type": "code",
   "execution_count": 32,
   "id": "91747e05-e5c0-4c5f-9bbb-3a5c4b335341",
   "metadata": {},
   "outputs": [],
   "source": [
    "sentiment_mapping = {\n",
    "    \"negative\": 0,\n",
    "    \"neutral\": 1,\n",
    "    \"positive\": 2\n",
    "}"
   ]
  },
  {
   "cell_type": "code",
   "execution_count": 33,
   "id": "e9e97088-c116-4321-88fb-2354116f27a9",
   "metadata": {},
   "outputs": [],
   "source": [
    "aggregated_data[\"Sentiment_Value\"] = aggregated_data[\"Sentiment\"].map(sentiment_mapping)"
   ]
  },
  {
   "cell_type": "code",
   "execution_count": 34,
   "id": "618a43fc-627e-4b94-8f7e-79031959820a",
   "metadata": {},
   "outputs": [
    {
     "data": {
      "text/html": [
       "<div>\n",
       "<style scoped>\n",
       "    .dataframe tbody tr th:only-of-type {\n",
       "        vertical-align: middle;\n",
       "    }\n",
       "\n",
       "    .dataframe tbody tr th {\n",
       "        vertical-align: top;\n",
       "    }\n",
       "\n",
       "    .dataframe thead th {\n",
       "        text-align: right;\n",
       "    }\n",
       "</style>\n",
       "<table border=\"1\" class=\"dataframe\">\n",
       "  <thead>\n",
       "    <tr style=\"text-align: right;\">\n",
       "      <th></th>\n",
       "      <th>Headlines</th>\n",
       "      <th>TrendD+1</th>\n",
       "      <th>TrendD+2</th>\n",
       "      <th>TrendD+3</th>\n",
       "      <th>TrendD+4</th>\n",
       "      <th>TrendD+5</th>\n",
       "      <th>TrendD+6</th>\n",
       "      <th>TrendD+7</th>\n",
       "      <th>Word_Count</th>\n",
       "      <th>Headlines_Condensed</th>\n",
       "      <th>Word_Count_Condensed</th>\n",
       "      <th>Sentiment</th>\n",
       "      <th>Score</th>\n",
       "      <th>Sentiment_Value</th>\n",
       "    </tr>\n",
       "  </thead>\n",
       "  <tbody>\n",
       "    <tr>\n",
       "      <th>0</th>\n",
       "      <td>The Guardian view on Ryanair’s model : a union...</td>\n",
       "      <td>2</td>\n",
       "      <td>1</td>\n",
       "      <td>1</td>\n",
       "      <td>1</td>\n",
       "      <td>1</td>\n",
       "      <td>1</td>\n",
       "      <td>1</td>\n",
       "      <td>234</td>\n",
       "      <td>guardian view ryanair model union friendly com...</td>\n",
       "      <td>144</td>\n",
       "      <td>neutral</td>\n",
       "      <td>0.998799</td>\n",
       "      <td>1</td>\n",
       "    </tr>\n",
       "    <tr>\n",
       "      <th>1</th>\n",
       "      <td>Universal basic income is no panacea for us – ...</td>\n",
       "      <td>1</td>\n",
       "      <td>1</td>\n",
       "      <td>1</td>\n",
       "      <td>1</td>\n",
       "      <td>1</td>\n",
       "      <td>1</td>\n",
       "      <td>1</td>\n",
       "      <td>438</td>\n",
       "      <td>universal basic income panacea us labour back ...</td>\n",
       "      <td>271</td>\n",
       "      <td>neutral</td>\n",
       "      <td>0.893167</td>\n",
       "      <td>1</td>\n",
       "    </tr>\n",
       "    <tr>\n",
       "      <th>2</th>\n",
       "      <td>Business live World markets driven to record h...</td>\n",
       "      <td>1</td>\n",
       "      <td>1</td>\n",
       "      <td>1</td>\n",
       "      <td>1</td>\n",
       "      <td>1</td>\n",
       "      <td>1</td>\n",
       "      <td>1</td>\n",
       "      <td>250</td>\n",
       "      <td>business live world markets driven record high...</td>\n",
       "      <td>147</td>\n",
       "      <td>neutral</td>\n",
       "      <td>0.903362</td>\n",
       "      <td>1</td>\n",
       "    </tr>\n",
       "    <tr>\n",
       "      <th>3</th>\n",
       "      <td>Parts of UK that voted Brexit are most exposed...</td>\n",
       "      <td>1</td>\n",
       "      <td>1</td>\n",
       "      <td>1</td>\n",
       "      <td>1</td>\n",
       "      <td>1</td>\n",
       "      <td>1</td>\n",
       "      <td>1</td>\n",
       "      <td>241</td>\n",
       "      <td>parts uk voted brexit exposed effects report s...</td>\n",
       "      <td>134</td>\n",
       "      <td>positive</td>\n",
       "      <td>0.570853</td>\n",
       "      <td>2</td>\n",
       "    </tr>\n",
       "    <tr>\n",
       "      <th>4</th>\n",
       "      <td>Fall in demand shrinks UK car making by 4 . 6%...</td>\n",
       "      <td>1</td>\n",
       "      <td>1</td>\n",
       "      <td>1</td>\n",
       "      <td>1</td>\n",
       "      <td>1</td>\n",
       "      <td>1</td>\n",
       "      <td>1</td>\n",
       "      <td>241</td>\n",
       "      <td>fall demand shrinks uk car making long read hi...</td>\n",
       "      <td>149</td>\n",
       "      <td>positive</td>\n",
       "      <td>0.875229</td>\n",
       "      <td>2</td>\n",
       "    </tr>\n",
       "    <tr>\n",
       "      <th>...</th>\n",
       "      <td>...</td>\n",
       "      <td>...</td>\n",
       "      <td>...</td>\n",
       "      <td>...</td>\n",
       "      <td>...</td>\n",
       "      <td>...</td>\n",
       "      <td>...</td>\n",
       "      <td>...</td>\n",
       "      <td>...</td>\n",
       "      <td>...</td>\n",
       "      <td>...</td>\n",
       "      <td>...</td>\n",
       "      <td>...</td>\n",
       "      <td>...</td>\n",
       "    </tr>\n",
       "    <tr>\n",
       "      <th>926</th>\n",
       "      <td>VW to shift centre of software development to ...</td>\n",
       "      <td>2</td>\n",
       "      <td>2</td>\n",
       "      <td>2</td>\n",
       "      <td>2</td>\n",
       "      <td>2</td>\n",
       "      <td>2</td>\n",
       "      <td>2</td>\n",
       "      <td>1357</td>\n",
       "      <td>vw shift centre software development audi crow...</td>\n",
       "      <td>669</td>\n",
       "      <td>negative</td>\n",
       "      <td>0.933551</td>\n",
       "      <td>0</td>\n",
       "    </tr>\n",
       "    <tr>\n",
       "      <th>927</th>\n",
       "      <td>Delta takes USD 3 billion charge on buyouts , ...</td>\n",
       "      <td>1</td>\n",
       "      <td>1</td>\n",
       "      <td>1</td>\n",
       "      <td>1</td>\n",
       "      <td>2</td>\n",
       "      <td>2</td>\n",
       "      <td>2</td>\n",
       "      <td>1482</td>\n",
       "      <td>delta takes usd billion charge buyouts america...</td>\n",
       "      <td>715</td>\n",
       "      <td>negative</td>\n",
       "      <td>0.739900</td>\n",
       "      <td>0</td>\n",
       "    </tr>\n",
       "    <tr>\n",
       "      <th>928</th>\n",
       "      <td>Negative U . S . rate bets persist , but seen ...</td>\n",
       "      <td>1</td>\n",
       "      <td>1</td>\n",
       "      <td>1</td>\n",
       "      <td>2</td>\n",
       "      <td>2</td>\n",
       "      <td>2</td>\n",
       "      <td>2</td>\n",
       "      <td>1404</td>\n",
       "      <td>negative u rate bets persist seen unlikely hap...</td>\n",
       "      <td>706</td>\n",
       "      <td>negative</td>\n",
       "      <td>0.934993</td>\n",
       "      <td>0</td>\n",
       "    </tr>\n",
       "    <tr>\n",
       "      <th>929</th>\n",
       "      <td>IQ Capital CEO Keith Bliss says tech and healt...</td>\n",
       "      <td>1</td>\n",
       "      <td>1</td>\n",
       "      <td>2</td>\n",
       "      <td>2</td>\n",
       "      <td>2</td>\n",
       "      <td>1</td>\n",
       "      <td>1</td>\n",
       "      <td>866</td>\n",
       "      <td>iq capital ceo keith bliss says tech healthcar...</td>\n",
       "      <td>482</td>\n",
       "      <td>positive</td>\n",
       "      <td>0.932718</td>\n",
       "      <td>2</td>\n",
       "    </tr>\n",
       "    <tr>\n",
       "      <th>930</th>\n",
       "      <td>Twitter says attackers downloaded data from up...</td>\n",
       "      <td>1</td>\n",
       "      <td>2</td>\n",
       "      <td>2</td>\n",
       "      <td>2</td>\n",
       "      <td>1</td>\n",
       "      <td>1</td>\n",
       "      <td>1</td>\n",
       "      <td>285</td>\n",
       "      <td>twitter says attackers downloaded data eight n...</td>\n",
       "      <td>170</td>\n",
       "      <td>negative</td>\n",
       "      <td>0.756348</td>\n",
       "      <td>0</td>\n",
       "    </tr>\n",
       "  </tbody>\n",
       "</table>\n",
       "<p>931 rows × 14 columns</p>\n",
       "</div>"
      ],
      "text/plain": [
       "                                             Headlines  TrendD+1  TrendD+2  \\\n",
       "0    The Guardian view on Ryanair’s model : a union...         2         1   \n",
       "1    Universal basic income is no panacea for us – ...         1         1   \n",
       "2    Business live World markets driven to record h...         1         1   \n",
       "3    Parts of UK that voted Brexit are most exposed...         1         1   \n",
       "4    Fall in demand shrinks UK car making by 4 . 6%...         1         1   \n",
       "..                                                 ...       ...       ...   \n",
       "926  VW to shift centre of software development to ...         2         2   \n",
       "927  Delta takes USD 3 billion charge on buyouts , ...         1         1   \n",
       "928  Negative U . S . rate bets persist , but seen ...         1         1   \n",
       "929  IQ Capital CEO Keith Bliss says tech and healt...         1         1   \n",
       "930  Twitter says attackers downloaded data from up...         1         2   \n",
       "\n",
       "     TrendD+3  TrendD+4  TrendD+5  TrendD+6  TrendD+7  Word_Count  \\\n",
       "0           1         1         1         1         1         234   \n",
       "1           1         1         1         1         1         438   \n",
       "2           1         1         1         1         1         250   \n",
       "3           1         1         1         1         1         241   \n",
       "4           1         1         1         1         1         241   \n",
       "..        ...       ...       ...       ...       ...         ...   \n",
       "926         2         2         2         2         2        1357   \n",
       "927         1         1         2         2         2        1482   \n",
       "928         1         2         2         2         2        1404   \n",
       "929         2         2         2         1         1         866   \n",
       "930         2         2         1         1         1         285   \n",
       "\n",
       "                                   Headlines_Condensed  Word_Count_Condensed  \\\n",
       "0    guardian view ryanair model union friendly com...                   144   \n",
       "1    universal basic income panacea us labour back ...                   271   \n",
       "2    business live world markets driven record high...                   147   \n",
       "3    parts uk voted brexit exposed effects report s...                   134   \n",
       "4    fall demand shrinks uk car making long read hi...                   149   \n",
       "..                                                 ...                   ...   \n",
       "926  vw shift centre software development audi crow...                   669   \n",
       "927  delta takes usd billion charge buyouts america...                   715   \n",
       "928  negative u rate bets persist seen unlikely hap...                   706   \n",
       "929  iq capital ceo keith bliss says tech healthcar...                   482   \n",
       "930  twitter says attackers downloaded data eight n...                   170   \n",
       "\n",
       "    Sentiment     Score  Sentiment_Value  \n",
       "0     neutral  0.998799                1  \n",
       "1     neutral  0.893167                1  \n",
       "2     neutral  0.903362                1  \n",
       "3    positive  0.570853                2  \n",
       "4    positive  0.875229                2  \n",
       "..        ...       ...              ...  \n",
       "926  negative  0.933551                0  \n",
       "927  negative  0.739900                0  \n",
       "928  negative  0.934993                0  \n",
       "929  positive  0.932718                2  \n",
       "930  negative  0.756348                0  \n",
       "\n",
       "[931 rows x 14 columns]"
      ]
     },
     "execution_count": 34,
     "metadata": {},
     "output_type": "execute_result"
    }
   ],
   "source": [
    "aggregated_data"
   ]
  },
  {
   "cell_type": "code",
   "execution_count": 35,
   "id": "55d3d45b-2e72-4eb0-b973-b3d9246ba2b3",
   "metadata": {},
   "outputs": [
    {
     "name": "stdout",
     "output_type": "stream",
     "text": [
      "Accuracy D+1: 0.33\n",
      "Accuracy D+2: 0.32\n",
      "Accuracy D+3: 0.33\n",
      "Accuracy D+4: 0.32\n",
      "Accuracy D+5: 0.32\n",
      "Accuracy D+6: 0.35\n",
      "Accuracy D+7: 0.33\n"
     ]
    }
   ],
   "source": [
    "for i in range(1,8):\n",
    "    accuracy = accuracy_score(aggregated_data[f\"TrendD+{i}\"], aggregated_data[\"Sentiment_Value\"])\n",
    "    print(f\"Accuracy D+{i}: {accuracy:.2f}\")"
   ]
  },
  {
   "cell_type": "markdown",
   "id": "3ec4251c-e88e-4bd8-9cce-5858d6c96249",
   "metadata": {},
   "source": [
    "--> Surprisingly(!) sentiment analysis of the aggregated Headlines has less predictive value than that of individual headlines - on par with random guess for next day up  to next 7 days"
   ]
  },
  {
   "cell_type": "code",
   "execution_count": 36,
   "id": "056cc7fb-2c8a-41e6-b81b-df10b05731bd",
   "metadata": {},
   "outputs": [],
   "source": [
    "aggregated_data.to_csv(\"../data/jvdm_aggregated_data.csv\", index=False)"
   ]
  },
  {
   "cell_type": "code",
   "execution_count": 42,
   "id": "35767200-a0e4-4e10-a44b-05b4db810142",
   "metadata": {},
   "outputs": [
    {
     "data": {
      "text/plain": [
       "TrendD+1\n",
       "1    31524\n",
       "2    12406\n",
       "0     9400\n",
       "Name: count, dtype: int64"
      ]
     },
     "execution_count": 42,
     "metadata": {},
     "output_type": "execute_result"
    }
   ],
   "source": [
    "data[\"TrendD+1\"].value_counts()"
   ]
  },
  {
   "cell_type": "code",
   "execution_count": 43,
   "id": "24056f0c-3986-4e72-95c4-ef54063334cf",
   "metadata": {},
   "outputs": [
    {
     "data": {
      "text/plain": [
       "TrendD+1\n",
       "1    2928\n",
       "2    1174\n",
       "0     898\n",
       "Name: count, dtype: int64"
      ]
     },
     "execution_count": 43,
     "metadata": {},
     "output_type": "execute_result"
    }
   ],
   "source": [
    "test_data[\"TrendD+1\"].value_counts()"
   ]
  },
  {
   "cell_type": "code",
   "execution_count": 44,
   "id": "0534d362-12c1-4461-bc00-0d575af97678",
   "metadata": {},
   "outputs": [
    {
     "data": {
      "text/plain": [
       "TrendD+1\n",
       "1    595\n",
       "2    191\n",
       "0    145\n",
       "Name: count, dtype: int64"
      ]
     },
     "execution_count": 44,
     "metadata": {},
     "output_type": "execute_result"
    }
   ],
   "source": [
    "aggregated_data[\"TrendD+1\"].value_counts()"
   ]
  }
 ],
 "metadata": {
  "kernelspec": {
   "display_name": "Python 3 (ipykernel)",
   "language": "python",
   "name": "python3"
  },
  "language_info": {
   "codemirror_mode": {
    "name": "ipython",
    "version": 3
   },
   "file_extension": ".py",
   "mimetype": "text/x-python",
   "name": "python",
   "nbconvert_exporter": "python",
   "pygments_lexer": "ipython3",
   "version": "3.12.2"
  }
 },
 "nbformat": 4,
 "nbformat_minor": 5
}
